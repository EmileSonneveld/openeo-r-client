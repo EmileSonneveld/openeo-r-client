{
 "cells": [
  {
   "cell_type": "markdown",
   "metadata": {},
   "source": [
    "# Example expected syntax of the R client\n",
    "Not expected to be functional yet"
   ]
  },
  {
   "cell_type": "code",
   "execution_count": 1,
   "metadata": {},
   "outputs": [
    {
     "name": "stderr",
     "output_type": "stream",
     "text": [
      "Skipping install of 'openEO.R.Backend' from a github remote, the SHA1 (ff026e0a) has not changed since last install.\n",
      "  Use `force = TRUE` to force installation\n",
      "Skipping install of 'openeo' from a github remote, the SHA1 (c9b21546) has not changed since last install.\n",
      "  Use `force = TRUE` to force installation\n",
      "Loading required package: magrittr\n",
      "Loading required package: jsonlite\n"
     ]
    }
   ],
   "source": [
    "library(devtools)\n",
    "options(unzip = 'internal'); install_github(\"Open-EO/openeo-r-backend\", ref=\"develop\") # Currently takes a while\n",
    "install_github(\"Open-EO/openeo-r-client\", ref=\"develop\")\n",
    "library(openeo)"
   ]
  },
  {
   "cell_type": "markdown",
   "metadata": {},
   "source": [
    "(Potentially there should be an ability to explore available/connected backends)\n",
    "\n",
    "## Connect to a backend"
   ]
  },
  {
   "cell_type": "code",
   "execution_count": 2,
   "metadata": {},
   "outputs": [
    {
     "name": "stdout",
     "output_type": "stream",
     "text": [
      "Login successful."
     ]
    }
   ],
   "source": [
    "conn = connect(\"http://localhost:8000/api\", \"test\", \"test\")"
   ]
  },
  {
   "cell_type": "markdown",
   "metadata": {},
   "source": [
    "## Listing backend capabilities:\n",
    "Get a list of functions that the backend natively supports; names and descriptions (list/named vector)"
   ]
  },
  {
   "cell_type": "code",
   "execution_count": 6,
   "metadata": {},
   "outputs": [
    {
     "data": {
      "text/plain": [
       "NULL"
      ]
     },
     "metadata": {},
     "output_type": "display_data"
    }
   ],
   "source": [
    "listProcesses(conn)"
   ]
  },
  {
   "cell_type": "markdown",
   "metadata": {},
   "source": [
    "Same for listing collections on the backend"
   ]
  },
  {
   "cell_type": "code",
   "execution_count": 3,
   "metadata": {
    "scrolled": true
   },
   "outputs": [
    {
     "data": {
      "text/html": [
       "<ol>\n",
       "\t<li><dl>\n",
       "\t<dt>$product_id</dt>\n",
       "\t\t<dd>'landsat7_ndvi'</dd>\n",
       "\t<dt>$description</dt>\n",
       "\t\t<dd>'Landsat7 NDVI calculation'</dd>\n",
       "\t<dt>$source</dt>\n",
       "\t\t<dd>'Marius Appel'</dd>\n",
       "</dl>\n",
       "</li>\n",
       "\t<li><dl>\n",
       "\t<dt>$product_id</dt>\n",
       "\t\t<dd>'sentinel2_subset'</dd>\n",
       "\t<dt>$description</dt>\n",
       "\t\t<dd>'Sentinel 2 raster time series for a small spatial subset'</dd>\n",
       "\t<dt>$source</dt>\n",
       "\t\t<dd>'ESA / Marius Appel'</dd>\n",
       "</dl>\n",
       "</li>\n",
       "</ol>\n"
      ],
      "text/latex": [
       "\\begin{enumerate}\n",
       "\\item \\begin{description}\n",
       "\\item[\\$product\\_id] 'landsat7\\_ndvi'\n",
       "\\item[\\$description] 'Landsat7 NDVI calculation'\n",
       "\\item[\\$source] 'Marius Appel'\n",
       "\\end{description}\n",
       "\n",
       "\\item \\begin{description}\n",
       "\\item[\\$product\\_id] 'sentinel2\\_subset'\n",
       "\\item[\\$description] 'Sentinel 2 raster time series for a small spatial subset'\n",
       "\\item[\\$source] 'ESA / Marius Appel'\n",
       "\\end{description}\n",
       "\n",
       "\\end{enumerate}\n"
      ],
      "text/markdown": [
       "1. $product_id\n",
       ":   'landsat7_ndvi'\n",
       "$description\n",
       ":   'Landsat7 NDVI calculation'\n",
       "$source\n",
       ":   'Marius Appel'\n",
       "\n",
       "\n",
       "\n",
       "2. $product_id\n",
       ":   'sentinel2_subset'\n",
       "$description\n",
       ":   'Sentinel 2 raster time series for a small spatial subset'\n",
       "$source\n",
       ":   'ESA / Marius Appel'\n",
       "\n",
       "\n",
       "\n",
       "\n",
       "\n"
      ],
      "text/plain": [
       "[[1]]\n",
       "[[1]]$product_id\n",
       "[1] \"landsat7_ndvi\"\n",
       "\n",
       "[[1]]$description\n",
       "[1] \"Landsat7 NDVI calculation\"\n",
       "\n",
       "[[1]]$source\n",
       "[1] \"Marius Appel\"\n",
       "\n",
       "\n",
       "[[2]]\n",
       "[[2]]$product_id\n",
       "[1] \"sentinel2_subset\"\n",
       "\n",
       "[[2]]$description\n",
       "[1] \"Sentinel 2 raster time series for a small spatial subset\"\n",
       "\n",
       "[[2]]$source\n",
       "[1] \"ESA / Marius Appel\"\n",
       "\n"
      ]
     },
     "metadata": {},
     "output_type": "display_data"
    }
   ],
   "source": [
    "listCollections(conn)"
   ]
  },
  {
   "cell_type": "markdown",
   "metadata": {},
   "source": [
    "Get in-depth information about a process or collection"
   ]
  },
  {
   "cell_type": "code",
   "execution_count": 4,
   "metadata": {},
   "outputs": [
    {
     "data": {
      "text/html": [
       "<ol>\n",
       "\t<li><dl>\n",
       "\t<dt>$status</dt>\n",
       "\t\t<dd>404</dd>\n",
       "\t<dt>$message</dt>\n",
       "\t\t<dd>'Process not found'</dd>\n",
       "</dl>\n",
       "</li>\n",
       "</ol>\n"
      ],
      "text/latex": [
       "\\begin{enumerate}\n",
       "\\item \\begin{description}\n",
       "\\item[\\$status] 404\n",
       "\\item[\\$message] 'Process not found'\n",
       "\\end{description}\n",
       "\n",
       "\\end{enumerate}\n"
      ],
      "text/markdown": [
       "1. $status\n",
       ":   404\n",
       "$message\n",
       ":   'Process not found'\n",
       "\n",
       "\n",
       "\n",
       "\n",
       "\n"
      ],
      "text/plain": [
       "[[1]]\n",
       "[[1]]$status\n",
       "[1] 404\n",
       "\n",
       "[[1]]$message\n",
       "[1] \"Process not found\"\n",
       "\n"
      ]
     },
     "metadata": {},
     "output_type": "display_data"
    }
   ],
   "source": [
    "describe(conn, \"sentinel2_subset\")"
   ]
  },
  {
   "cell_type": "markdown",
   "metadata": {},
   "source": [
    "Listing existing user jobs"
   ]
  },
  {
   "cell_type": "code",
   "execution_count": 8,
   "metadata": {},
   "outputs": [
    {
     "data": {
      "text/plain": [
       "NULL"
      ]
     },
     "metadata": {},
     "output_type": "display_data"
    }
   ],
   "source": [
    "listJobs(conn)"
   ]
  },
  {
   "cell_type": "markdown",
   "metadata": {},
   "source": [
    "Listing which UDF capabilities/packages are supported"
   ]
  },
  {
   "cell_type": "code",
   "execution_count": 9,
   "metadata": {},
   "outputs": [
    {
     "ename": "ERROR",
     "evalue": "Error in listUDFCapabilities(conn): could not find function \"listUDFCapabilities\"\n",
     "output_type": "error",
     "traceback": [
      "Error in listUDFCapabilities(conn): could not find function \"listUDFCapabilities\"\nTraceback:\n"
     ]
    }
   ],
   "source": [
    "listUDFCapabilities(conn)"
   ]
  },
  {
   "cell_type": "markdown",
   "metadata": {},
   "source": [
    "## Simple task: calculating NDVI using a linked list of processes\n",
    "Assumes NDVI function takes band names as parameters"
   ]
  },
  {
   "cell_type": "code",
   "execution_count": 17,
   "metadata": {},
   "outputs": [
    {
     "name": "stdout",
     "output_type": "stream",
     "text": [
      "List of 4\n",
      " $ collections:List of 4\n",
      "  ..$ collections:List of 1\n",
      "  .. ..$ collection_id: chr \"S2_L2A_T32TPS_20M\"\n",
      "  ..$ process_id : chr \"filter_daterange\"\n",
      "  ..$ start      : chr \"2016\"\n",
      "  ..$ end        : chr \"2018\"\n",
      " $ process_id : chr \"NDVI\"\n",
      " $ red        : chr \"B04\"\n",
      " $ nir        : chr \"B8A\"\n"
     ]
    },
    {
     "data": {
      "text/plain": [
       "{\n",
       "  \"collections\": {\n",
       "    \"collections\": {\n",
       "      \"collection_id\": \"S2_L2A_T32TPS_20M\"\n",
       "    },\n",
       "    \"process_id\": \"filter_daterange\",\n",
       "    \"start\": \"2016\",\n",
       "    \"end\": \"2018\"\n",
       "  },\n",
       "  \"process_id\": \"NDVI\",\n",
       "  \"red\": \"B04\",\n",
       "  \"nir\": \"B8A\"\n",
       "} "
      ]
     },
     "metadata": {},
     "output_type": "display_data"
    }
   ],
   "source": [
    "Task = collection(\"S2_L2A_T32TPS_20M\") %>% process(\"filter_daterange\", start=\"2016\", end=\"2018\") %>%\n",
    "    process(\"NDVI\", red=\"B04\", nir=\"B8A\")\n",
    "str(Task)\n",
    "taskToJSON(Task)"
   ]
  },
  {
   "cell_type": "markdown",
   "metadata": {},
   "source": [
    "## Advanced task: calculating NDVI using processes that have other processes as arguments \n",
    "Assumes NDVI function takes process graphs"
   ]
  },
  {
   "cell_type": "code",
   "execution_count": 3,
   "metadata": {},
   "outputs": [
    {
     "name": "stdout",
     "output_type": "stream",
     "text": [
      "List of 4\n",
      " $ collections:List of 4\n",
      "  ..$ collections:List of 1\n",
      "  .. ..$ collection_id: chr \"S2_L2A_T32TPS_20M\"\n",
      "  ..$ process_id : chr \"filter_daterange\"\n",
      "  ..$ start      : chr \"2016\"\n",
      "  ..$ end        : chr \"2018\"\n",
      " $ process_id : chr \"NDVI\"\n",
      " $ red        :List of 3\n",
      "  ..$ collections:List of 4\n",
      "  .. ..$ collections:List of 1\n",
      "  .. .. ..$ collection_id: chr \"S2_L2A_T32TPS_20M\"\n",
      "  .. ..$ process_id : chr \"filter_daterange\"\n",
      "  .. ..$ start      : chr \"2016\"\n",
      "  .. ..$ end        : chr \"2018\"\n",
      "  ..$ process_id : chr \"filter_band\"\n",
      "  ..$ band       : chr \"red\"\n",
      " $ nir        :List of 3\n",
      "  ..$ collections:List of 4\n",
      "  .. ..$ collections:List of 1\n",
      "  .. .. ..$ collection_id: chr \"S2_L2A_T32TPS_20M\"\n",
      "  .. ..$ process_id : chr \"filter_daterange\"\n",
      "  .. ..$ start      : chr \"2016\"\n",
      "  .. ..$ end        : chr \"2018\"\n",
      "  ..$ process_id : chr \"filter_band\"\n",
      "  ..$ band       : chr \"nir\"\n"
     ]
    },
    {
     "data": {
      "text/plain": [
       "{\n",
       "  \"collections\": {\n",
       "    \"collections\": {\n",
       "      \"collection_id\": \"S2_L2A_T32TPS_20M\"\n",
       "    },\n",
       "    \"process_id\": \"filter_daterange\",\n",
       "    \"start\": \"2016\",\n",
       "    \"end\": \"2018\"\n",
       "  },\n",
       "  \"process_id\": \"NDVI\",\n",
       "  \"red\": {\n",
       "    \"collections\": {\n",
       "      \"collections\": {\n",
       "        \"collection_id\": \"S2_L2A_T32TPS_20M\"\n",
       "      },\n",
       "      \"process_id\": \"filter_daterange\",\n",
       "      \"start\": \"2016\",\n",
       "      \"end\": \"2018\"\n",
       "    },\n",
       "    \"process_id\": \"filter_band\",\n",
       "    \"band\": \"red\"\n",
       "  },\n",
       "  \"nir\": {\n",
       "    \"collections\": {\n",
       "      \"collections\": {\n",
       "        \"collection_id\": \"S2_L2A_T32TPS_20M\"\n",
       "      },\n",
       "      \"process_id\": \"filter_daterange\",\n",
       "      \"start\": \"2016\",\n",
       "      \"end\": \"2018\"\n",
       "    },\n",
       "    \"process_id\": \"filter_band\",\n",
       "    \"band\": \"nir\"\n",
       "  }\n",
       "} "
      ]
     },
     "metadata": {},
     "output_type": "display_data"
    }
   ],
   "source": [
    "AOICollection = collection(\"S2_L2A_T32TPS_20M\") %>% process(\"filter_daterange\", start=\"2016\", end=\"2018\")\n",
    "RedSubset = AOICollection %>% process(\"filter_band\", band=\"red\")\n",
    "NIRSubset = AOICollection %>% process(\"filter_band\", band=\"nir\")\n",
    "Task = AOICollection %>% process(\"NDVI\", red=RedSubset, nir=NIRSubset)\n",
    "\n",
    "str(Task)\n",
    "taskToJSON(Task)"
   ]
  },
  {
   "cell_type": "markdown",
   "metadata": {},
   "source": [
    "## Three ways of processing data in OpenEO:\n",
    "### Synchronous\n",
    "Run right away and give data as an object (Raster?); 'format' optional, should default to native that is then read into a Raster* object"
   ]
  },
  {
   "cell_type": "code",
   "execution_count": null,
   "metadata": {},
   "outputs": [],
   "source": [
    "Result = executeTask(conn, Task, format=\"GTiff\")"
   ]
  },
  {
   "cell_type": "markdown",
   "metadata": {},
   "source": [
    "### Batch\n",
    "Ask the server to prepare it the USGS ESPA way, get a job ID and the URL to the output location"
   ]
  },
  {
   "cell_type": "code",
   "execution_count": null,
   "metadata": {},
   "outputs": [],
   "source": [
    "OutputInfo = orderTask(conn, Task)\n",
    "JobID = OutputInfo$JobID"
   ]
  },
  {
   "cell_type": "markdown",
   "metadata": {},
   "source": [
    "### Lazy\n",
    "Ask the server to run it when needed (on WCS, but also download etc.)"
   ]
  },
  {
   "cell_type": "code",
   "execution_count": null,
   "metadata": {},
   "outputs": [],
   "source": [
    "JobID = queueTask(conn, Task)"
   ]
  },
  {
   "cell_type": "markdown",
   "metadata": {},
   "source": [
    "## Functions that can be performed with a JobID\n",
    "Lazy and batch only"
   ]
  },
  {
   "cell_type": "code",
   "execution_count": null,
   "metadata": {},
   "outputs": [],
   "source": [
    "followJob(conn, JobID) # cat --follow style updates about the job\n",
    "JobInfo = queryJob(conn, JobID) # Get current information on a job\n",
    "cancelJob(conn, JobID) # Pause a job; need a way to restart it also\n",
    "deleteJob(conn, JobID) # Delete the job from the server entirely\n",
    "Result = downloadJob(conn, JobID) # Get the result as with the synchronous case\n",
    "(WCSURL = getWCSLink(conn, JobID)) # Get a URL to the WCS to visualise/download data"
   ]
  },
  {
   "cell_type": "markdown",
   "metadata": {},
   "source": [
    "## Either way have a result, should be a **Raster*** object"
   ]
  },
  {
   "cell_type": "code",
   "execution_count": null,
   "metadata": {},
   "outputs": [],
   "source": [
    "plot(Result)\n",
    "spplot(Result, 3)"
   ]
  },
  {
   "cell_type": "markdown",
   "metadata": {},
   "source": [
    "## Theoretical use case 1: composite example"
   ]
  },
  {
   "cell_type": "code",
   "execution_count": 19,
   "metadata": {
    "scrolled": true
   },
   "outputs": [
    {
     "name": "stdout",
     "output_type": "stream",
     "text": [
      "List of 2\n",
      " $ collections:List of 7\n",
      "  ..$ collections:List of 4\n",
      "  .. ..$ collections:List of 1\n",
      "  .. .. ..$ collection_id: chr \"S2_L2A_T32TPS_20M\"\n",
      "  .. ..$ process_id : chr \"date_range_filter\"\n",
      "  .. ..$ start      : chr \"2016-01-01\"\n",
      "  .. ..$ end        : chr \"2016-03-10\"\n",
      "  ..$ process_id : chr \"bbox_filter\"\n",
      "  ..$ left       : num 652000\n",
      "  ..$ right      : num 672000\n",
      "  ..$ top        : num 5161000\n",
      "  ..$ bottom     : num 5181000\n",
      "  ..$ srs        : chr \"EPSG:32632\"\n",
      " $ process_id : chr \"max_time\"\n"
     ]
    },
    {
     "data": {
      "text/plain": [
       "{\n",
       "  \"collections\": {\n",
       "    \"collections\": {\n",
       "      \"collections\": {\n",
       "        \"collection_id\": \"S2_L2A_T32TPS_20M\"\n",
       "      },\n",
       "      \"process_id\": \"date_range_filter\",\n",
       "      \"start\": \"2016-01-01\",\n",
       "      \"end\": \"2016-03-10\"\n",
       "    },\n",
       "    \"process_id\": \"bbox_filter\",\n",
       "    \"left\": 652000,\n",
       "    \"right\": 672000,\n",
       "    \"top\": 5161000,\n",
       "    \"bottom\": 5181000,\n",
       "    \"srs\": \"EPSG:32632\"\n",
       "  },\n",
       "  \"process_id\": \"max_time\"\n",
       "} "
      ]
     },
     "metadata": {},
     "output_type": "display_data"
    }
   ],
   "source": [
    "CompositeTask = collection(\"S2_L2A_T32TPS_20M\") %>% process(\"date_range_filter\", start=\"2016-01-01\", end=\"2016-03-10\") %>%\n",
    "    process(\"bbox_filter\", left=652000, right=672000, top=5161000, bottom=5181000, srs=\"EPSG:32632\") %>%\n",
    "    process(\"max_time\")\n",
    "\n",
    "str(CompositeTask)\n",
    "taskToJSON(CompositeTask)"
   ]
  },
  {
   "cell_type": "markdown",
   "metadata": {},
   "source": [
    "### Lazy"
   ]
  },
  {
   "cell_type": "code",
   "execution_count": null,
   "metadata": {},
   "outputs": [],
   "source": [
    "Conn = connect(host=\"http://saocompute.eurac.edu/openEO_WCPS_Driver\", user=\"nobody\", password=\"nobody\")\n",
    "Job = queueTask(Conn, CompositeTask)\n",
    "OutPath = file.path(\"Downloads\", \"Result.netcdf\")\n",
    "downloadJob(Conn, Job, OutPath, \"netcdf\") # Processing happens here\n",
    "Result = brick(OutPath)"
   ]
  },
  {
   "cell_type": "markdown",
   "metadata": {},
   "source": [
    "### Synchronous"
   ]
  },
  {
   "cell_type": "code",
   "execution_count": null,
   "metadata": {},
   "outputs": [],
   "source": [
    "Result = executeTask(Conn, CompositeTask)"
   ]
  },
  {
   "cell_type": "code",
   "execution_count": null,
   "metadata": {},
   "outputs": [],
   "source": [
    "plot(Result)"
   ]
  },
  {
   "cell_type": "markdown",
   "metadata": {},
   "source": [
    "## Complex use case: Land cover classification"
   ]
  },
  {
   "cell_type": "markdown",
   "metadata": {},
   "source": [
    "UDF definitions: not in API yet!"
   ]
  },
  {
   "cell_type": "code",
   "execution_count": null,
   "metadata": {},
   "outputs": [],
   "source": [
    "defineUDF(conn, udf_id=\"resample\", type=\"aggregate_space\", content=file.path(\"resample.r\")) # This could be a server-defined function too\n",
    "defineUDF(conn, udf_id=\"temporal_cloud_filter\", type=\"apply_time\", content=file.path(\"temporal_cloud_filter.r\")) # No such type in API yet\n",
    "defineUDF(conn, udf_id=\"harmonic_analysis\", type=\"reduce_time\", content=file.path(\"harmonic_analysis.r\"))\n",
    "defineUDF(conn, udf_id=\"ranger_classification\", type=\"apply_pixel\", content=file.path(\"ranger_classification.r\"))"
   ]
  },
  {
   "cell_type": "markdown",
   "metadata": {},
   "source": [
    "Process graphs"
   ]
  },
  {
   "cell_type": "code",
   "execution_count": 26,
   "metadata": {},
   "outputs": [
    {
     "name": "stdout",
     "output_type": "stream",
     "text": [
      "List of 5\n",
      " $ collections:List of 1\n",
      "  ..$ collection_id: NULL\n",
      " $ process_id : chr \"ranger_classification\"\n",
      " $ NDVI       :List of 2\n",
      "  ..$ collections:List of 4\n",
      "  .. ..$ collections:List of 4\n",
      "  .. .. ..$ collections:List of 4\n",
      "  .. .. .. ..$ collections:List of 7\n",
      "  .. .. .. .. ..$ collections:List of 1\n",
      "  .. .. .. .. .. ..$ collection_id: chr \"S2_L2A_T32TPS_20M\"\n",
      "  .. .. .. .. ..$ process_id : chr \"bbox_filter\"\n",
      "  .. .. .. .. ..$ left       : num 652000\n",
      "  .. .. .. .. ..$ right      : num 672000\n",
      "  .. .. .. .. ..$ top        : num 5161000\n",
      "  .. .. .. .. ..$ bottom     : num 5181000\n",
      "  .. .. .. .. ..$ srs        : chr \"EPSG:32632\"\n",
      "  .. .. .. ..$ process_id : chr \"mask\"\n",
      "  .. .. .. ..$ mask       : chr \"CM\"\n",
      "  .. .. .. ..$ maskvalue  : num 5\n",
      "  .. .. ..$ process_id : chr \"ndvi\"\n",
      "  .. .. ..$ red        : chr \"B04\"\n",
      "  .. .. ..$ nir        : chr \"B8A\"\n",
      "  .. ..$ process_id : chr \"temporal_cloud_filter\"\n",
      "  .. ..$ band       : chr \"B02\"\n",
      "  .. ..$ threshold  : chr \"50\"\n",
      "  ..$ process_id : chr \"mean_time\"\n",
      " $ DEM        :List of 3\n",
      "  ..$ collections:List of 7\n",
      "  .. ..$ collections:List of 1\n",
      "  .. .. ..$ collection_id: chr \"GLSDEM\"\n",
      "  .. ..$ process_id : chr \"bbox_filter\"\n",
      "  .. ..$ left       : num 652000\n",
      "  .. ..$ right      : num 672000\n",
      "  .. ..$ top        : num 5161000\n",
      "  .. ..$ bottom     : num 5181000\n",
      "  .. ..$ srs        : chr \"EPSG:32632\"\n",
      "  ..$ process_id : chr \"resample\"\n",
      "  ..$            :List of 1\n",
      "  .. ..$ collection_id: chr \"S2_L2A_T32TPS_20M\"\n",
      " $ TS         :List of 2\n",
      "  ..$ collections:List of 4\n",
      "  .. ..$ collections:List of 4\n",
      "  .. .. ..$ collections:List of 4\n",
      "  .. .. .. ..$ collections:List of 7\n",
      "  .. .. .. .. ..$ collections:List of 1\n",
      "  .. .. .. .. .. ..$ collection_id: chr \"S2_L2A_T32TPS_20M\"\n",
      "  .. .. .. .. ..$ process_id : chr \"bbox_filter\"\n",
      "  .. .. .. .. ..$ left       : num 652000\n",
      "  .. .. .. .. ..$ right      : num 672000\n",
      "  .. .. .. .. ..$ top        : num 5161000\n",
      "  .. .. .. .. ..$ bottom     : num 5181000\n",
      "  .. .. .. .. ..$ srs        : chr \"EPSG:32632\"\n",
      "  .. .. .. ..$ process_id : chr \"mask\"\n",
      "  .. .. .. ..$ mask       : chr \"CM\"\n",
      "  .. .. .. ..$ maskvalue  : num 5\n",
      "  .. .. ..$ process_id : chr \"ndvi\"\n",
      "  .. .. ..$ red        : chr \"B04\"\n",
      "  .. .. ..$ nir        : chr \"B8A\"\n",
      "  .. ..$ process_id : chr \"temporal_cloud_filter\"\n",
      "  .. ..$ band       : chr \"B02\"\n",
      "  .. ..$ threshold  : chr \"50\"\n",
      "  ..$ process_id : chr \"harmonic_analysis\"\n"
     ]
    },
    {
     "data": {
      "text/plain": [
       "{\n",
       "  \"collections\": {\n",
       "    \"collection_id\": {}\n",
       "  },\n",
       "  \"process_id\": \"ranger_classification\",\n",
       "  \"NDVI\": {\n",
       "    \"collections\": {\n",
       "      \"collections\": {\n",
       "        \"collections\": {\n",
       "          \"collections\": {\n",
       "            \"collections\": {\n",
       "              \"collection_id\": \"S2_L2A_T32TPS_20M\"\n",
       "            },\n",
       "            \"process_id\": \"bbox_filter\",\n",
       "            \"left\": 652000,\n",
       "            \"right\": 672000,\n",
       "            \"top\": 5161000,\n",
       "            \"bottom\": 5181000,\n",
       "            \"srs\": \"EPSG:32632\"\n",
       "          },\n",
       "          \"process_id\": \"mask\",\n",
       "          \"mask\": \"CM\",\n",
       "          \"maskvalue\": 5\n",
       "        },\n",
       "        \"process_id\": \"ndvi\",\n",
       "        \"red\": \"B04\",\n",
       "        \"nir\": \"B8A\"\n",
       "      },\n",
       "      \"process_id\": \"temporal_cloud_filter\",\n",
       "      \"band\": \"B02\",\n",
       "      \"threshold\": \"50\"\n",
       "    },\n",
       "    \"process_id\": \"mean_time\"\n",
       "  },\n",
       "  \"DEM\": {\n",
       "    \"collections\": {\n",
       "      \"collections\": {\n",
       "        \"collection_id\": \"GLSDEM\"\n",
       "      },\n",
       "      \"process_id\": \"bbox_filter\",\n",
       "      \"left\": 652000,\n",
       "      \"right\": 672000,\n",
       "      \"top\": 5161000,\n",
       "      \"bottom\": 5181000,\n",
       "      \"srs\": \"EPSG:32632\"\n",
       "    },\n",
       "    \"process_id\": \"resample\",\n",
       "    \"3\": {\n",
       "      \"collection_id\": \"S2_L2A_T32TPS_20M\"\n",
       "    }\n",
       "  },\n",
       "  \"TS\": {\n",
       "    \"collections\": {\n",
       "      \"collections\": {\n",
       "        \"collections\": {\n",
       "          \"collections\": {\n",
       "            \"collections\": {\n",
       "              \"collection_id\": \"S2_L2A_T32TPS_20M\"\n",
       "            },\n",
       "            \"process_id\": \"bbox_filter\",\n",
       "            \"left\": 652000,\n",
       "            \"right\": 672000,\n",
       "            \"top\": 5161000,\n",
       "            \"bottom\": 5181000,\n",
       "            \"srs\": \"EPSG:32632\"\n",
       "          },\n",
       "          \"process_id\": \"mask\",\n",
       "          \"mask\": \"CM\",\n",
       "          \"maskvalue\": 5\n",
       "        },\n",
       "        \"process_id\": \"ndvi\",\n",
       "        \"red\": \"B04\",\n",
       "        \"nir\": \"B8A\"\n",
       "      },\n",
       "      \"process_id\": \"temporal_cloud_filter\",\n",
       "      \"band\": \"B02\",\n",
       "      \"threshold\": \"50\"\n",
       "    },\n",
       "    \"process_id\": \"harmonic_analysis\"\n",
       "  }\n",
       "} "
      ]
     },
     "metadata": {},
     "output_type": "display_data"
    }
   ],
   "source": [
    "DEMCollection = collection(\"GLSDEM\") %>%\n",
    "    process(\"bbox_filter\", left=652000, right=672000, top=5161000, bottom=5181000, srs=\"EPSG:32632\") %>%\n",
    "    process(\"resample\", collection(\"S2_L2A_T32TPS_20M\"))\n",
    "    # UDF to resample to Sentinel 2 pixel size\n",
    "\n",
    "CloudlessNDVI = collection(\"S2_L2A_T32TPS_20M\") %>% # Graph part reused in several places\n",
    "    process(\"bbox_filter\", left=652000, right=672000, top=5161000, bottom=5181000, srs=\"EPSG:32632\") %>%\n",
    "    process(\"mask\", mask=\"CM\", maskvalue=5) %>% process(\"ndvi\", red=\"B04\", nir=\"B8A\") %>%\n",
    "    process(\"temporal_cloud_filter\", band=\"B02\", threshold=\"50\")\n",
    "    # Temporal cloud filter UDF: for each pixel use blue to detect outliers, replace more than 50 with NA\n",
    "\n",
    "TSParams = CloudlessNDVI %>% process(\"harmonic_analysis\")\n",
    "# Harmonic parameter extraction UDF: get several layers of harmonic model params\n",
    "\n",
    "MeanNDVI = CloudlessNDVI %>% process(\"mean_time\")\n",
    "# Also get the mean NDVI as a covariate\n",
    "\n",
    "# Somehow upload training dataset or have a UDF that downloads it(?)\n",
    "LandCoverTask = collection(NULL) %>% process(\"ranger_classification\", NDVI=MeanNDVI, DEM=DEMCollection, TS=TSParams)\n",
    "# UDF: runs a ranger training and prediction pass, returns an LC map and some (spatial?) statistics\n",
    "\n",
    "str(LandCoverTask)\n",
    "taskToJSON(LandCoverTask)"
   ]
  },
  {
   "cell_type": "code",
   "execution_count": null,
   "metadata": {},
   "outputs": [],
   "source": [
    "Result = executeTask(conn, LandCoverTask)\n",
    "spplot(Result, 1)"
   ]
  }
 ],
 "metadata": {
  "kernelspec": {
   "display_name": "R",
   "language": "R",
   "name": "ir"
  },
  "language_info": {
   "codemirror_mode": "r",
   "file_extension": ".r",
   "mimetype": "text/x-r-source",
   "name": "R",
   "pygments_lexer": "r",
   "version": "3.4.3"
  }
 },
 "nbformat": 4,
 "nbformat_minor": 2
}
