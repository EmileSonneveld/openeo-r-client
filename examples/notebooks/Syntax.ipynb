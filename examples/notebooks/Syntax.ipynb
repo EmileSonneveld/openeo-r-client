{
 "cells": [
  {
   "cell_type": "markdown",
   "metadata": {},
   "source": [
    "# Example expected syntax of the R client\n",
    "Not expected to be fully functional yet"
   ]
  },
  {
   "cell_type": "code",
   "execution_count": 1,
   "metadata": {
    "collapsed": false
   },
   "outputs": [
    {
     "name": "stderr",
     "output_type": "stream",
     "text": [
      "Skipping install of 'openEO.R.Backend' from a github remote, the SHA1 (dfc7d685) has not changed since last install.\n",
      "  Use `force = TRUE` to force installation\n",
      "Skipping install of 'openeo' from a github remote, the SHA1 (e6bf72e5) has not changed since last install.\n",
      "  Use `force = TRUE` to force installation\n",
      "Loading required package: magrittr\n",
      "Loading required package: jsonlite\n",
      "Loading required package: gdalUtils\n"
     ]
    }
   ],
   "source": [
    "library(devtools)\n",
    "options(unzip = 'internal'); install_github(\"Open-EO/openeo-r-backend\", ref=\"develop\") # Currently takes a while\n",
    "install_github(\"Open-EO/openeo-r-client\", ref=\"develop\")\n",
    "library(openeo)"
   ]
  },
  {
   "cell_type": "markdown",
   "metadata": {},
   "source": [
    "(Potentially there should be an ability to explore available/connected backends)\n",
    "\n",
    "## Connect to a backend"
   ]
  },
  {
   "cell_type": "code",
   "execution_count": 4,
   "metadata": {
    "collapsed": false
   },
   "outputs": [
    {
     "name": "stdout",
     "output_type": "stream",
     "text": [
      "Registered 'http://localhost:8000/api' as host\n",
      "Login successful."
     ]
    }
   ],
   "source": [
    "conn = connect(\"http://localhost:8000/api\", \"test\", \"test\", rbackend=TRUE)"
   ]
  },
  {
   "cell_type": "markdown",
   "metadata": {},
   "source": [
    "## Listing backend capabilities:\n",
    "Get a list of functions that the backend natively supports; names and descriptions (list/named vector)"
   ]
  },
  {
   "cell_type": "code",
   "execution_count": 5,
   "metadata": {
    "collapsed": false
   },
   "outputs": [
    {
     "data": {
      "text/html": [
       "<table>\n",
       "<thead><tr><th scope=col>process_id</th><th scope=col>description</th></tr></thead>\n",
       "<tbody>\n",
       "\t<tr><td>filter_daterange                                                                 </td><td>filters a data set with a temporal dimension based on a stated start and end date</td></tr>\n",
       "\t<tr><td>find_min                                                                         </td><td>calculates the minimum value per pixel of a single valued band collection        </td></tr>\n",
       "\t<tr><td>calculate_ndvi                                                                   </td><td>Calculates the ndvi per pixel and scene in a given collection                    </td></tr>\n",
       "</tbody>\n",
       "</table>\n"
      ],
      "text/latex": [
       "\\begin{tabular}{r|ll}\n",
       " process\\_id & description\\\\\n",
       "\\hline\n",
       "\t filter\\_daterange                                                                & filters a data set with a temporal dimension based on a stated start and end date\\\\\n",
       "\t find\\_min                                                                        & calculates the minimum value per pixel of a single valued band collection        \\\\\n",
       "\t calculate\\_ndvi                                                                  & Calculates the ndvi per pixel and scene in a given collection                    \\\\\n",
       "\\end{tabular}\n"
      ],
      "text/markdown": [
       "\n",
       "process_id | description | \n",
       "|---|---|---|\n",
       "| filter_daterange                                                                  | filters a data set with a temporal dimension based on a stated start and end date | \n",
       "| find_min                                                                          | calculates the minimum value per pixel of a single valued band collection         | \n",
       "| calculate_ndvi                                                                    | Calculates the ndvi per pixel and scene in a given collection                     | \n",
       "\n",
       "\n"
      ],
      "text/plain": [
       "  process_id      \n",
       "1 filter_daterange\n",
       "2 find_min        \n",
       "3 calculate_ndvi  \n",
       "  description                                                                      \n",
       "1 filters a data set with a temporal dimension based on a stated start and end date\n",
       "2 calculates the minimum value per pixel of a single valued band collection        \n",
       "3 Calculates the ndvi per pixel and scene in a given collection                    "
      ]
     },
     "metadata": {},
     "output_type": "display_data"
    }
   ],
   "source": [
    "listProcesses(conn)"
   ]
  },
  {
   "cell_type": "markdown",
   "metadata": {},
   "source": [
    "Same for listing collections on the backend"
   ]
  },
  {
   "cell_type": "code",
   "execution_count": 6,
   "metadata": {
    "collapsed": false
   },
   "outputs": [
    {
     "data": {
      "text/html": [
       "<table>\n",
       "<thead><tr><th scope=col>product_id</th><th scope=col>description</th><th scope=col>source</th></tr></thead>\n",
       "<tbody>\n",
       "\t<tr><td>landsat7_ndvi                                           </td><td>Landsat7 NDVI calculation                               </td><td>Marius Appel                                            </td></tr>\n",
       "\t<tr><td>sentinel2_subset                                        </td><td>Sentinel 2 raster time series for a small spatial subset</td><td>ESA / Marius Appel                                      </td></tr>\n",
       "</tbody>\n",
       "</table>\n"
      ],
      "text/latex": [
       "\\begin{tabular}{r|lll}\n",
       " product\\_id & description & source\\\\\n",
       "\\hline\n",
       "\t landsat7\\_ndvi                                          & Landsat7 NDVI calculation                                & Marius Appel                                            \\\\\n",
       "\t sentinel2\\_subset                                       & Sentinel 2 raster time series for a small spatial subset & ESA / Marius Appel                                      \\\\\n",
       "\\end{tabular}\n"
      ],
      "text/markdown": [
       "\n",
       "product_id | description | source | \n",
       "|---|---|\n",
       "| landsat7_ndvi                                            | Landsat7 NDVI calculation                                | Marius Appel                                             | \n",
       "| sentinel2_subset                                         | Sentinel 2 raster time series for a small spatial subset | ESA / Marius Appel                                       | \n",
       "\n",
       "\n"
      ],
      "text/plain": [
       "  product_id       description                                             \n",
       "1 landsat7_ndvi    Landsat7 NDVI calculation                               \n",
       "2 sentinel2_subset Sentinel 2 raster time series for a small spatial subset\n",
       "  source            \n",
       "1 Marius Appel      \n",
       "2 ESA / Marius Appel"
      ]
     },
     "metadata": {},
     "output_type": "display_data"
    }
   ],
   "source": [
    "listCollections(conn)"
   ]
  },
  {
   "cell_type": "markdown",
   "metadata": {},
   "source": [
    "Get in-depth information about a process or collection"
   ]
  },
  {
   "cell_type": "code",
   "execution_count": 11,
   "metadata": {
    "collapsed": false,
    "scrolled": true
   },
   "outputs": [
    {
     "data": {
      "text/html": [
       "<ol>\n",
       "\t<li><dl>\n",
       "\t<dt>$process_id</dt>\n",
       "\t\t<dd>'filter_daterange'</dd>\n",
       "\t<dt>$description</dt>\n",
       "\t\t<dd>'filters a data set with a temporal dimension based on a stated start and end date'</dd>\n",
       "\t<dt>$args</dt>\n",
       "\t\t<dd><dl>\n",
       "\t<dt>$imagery</dt>\n",
       "\t\t<dd><strong>$description</strong> = 'the temporal dataset/collection'</dd>\n",
       "\t<dt>$from</dt>\n",
       "\t\t<dd><strong>$description</strong> = 'start date/timestamp for the query interval'</dd>\n",
       "\t<dt>$to</dt>\n",
       "\t\t<dd><strong>$description</strong> = 'end date/timestamp for the query interval'</dd>\n",
       "</dl>\n",
       "</dd>\n",
       "</dl>\n",
       "</li>\n",
       "</ol>\n"
      ],
      "text/latex": [
       "\\begin{enumerate}\n",
       "\\item \\begin{description}\n",
       "\\item[\\$process\\_id] 'filter\\_daterange'\n",
       "\\item[\\$description] 'filters a data set with a temporal dimension based on a stated start and end date'\n",
       "\\item[\\$args] \\begin{description}\n",
       "\\item[\\$imagery] \\textbf{\\$description} = 'the temporal dataset/collection'\n",
       "\\item[\\$from] \\textbf{\\$description} = 'start date/timestamp for the query interval'\n",
       "\\item[\\$to] \\textbf{\\$description} = 'end date/timestamp for the query interval'\n",
       "\\end{description}\n",
       "\n",
       "\\end{description}\n",
       "\n",
       "\\end{enumerate}\n"
      ],
      "text/markdown": [
       "1. $process_id\n",
       ":   'filter_daterange'\n",
       "$description\n",
       ":   'filters a data set with a temporal dimension based on a stated start and end date'\n",
       "$args\n",
       ":   $imagery\n",
       ":   **$description** = 'the temporal dataset/collection'\n",
       "$from\n",
       ":   **$description** = 'start date/timestamp for the query interval'\n",
       "$to\n",
       ":   **$description** = 'end date/timestamp for the query interval'\n",
       "\n",
       "\n",
       "\n",
       "\n",
       "\n",
       "\n",
       "\n",
       "\n"
      ],
      "text/plain": [
       "[[1]]\n",
       "[[1]]$process_id\n",
       "[1] \"filter_daterange\"\n",
       "\n",
       "[[1]]$description\n",
       "[1] \"filters a data set with a temporal dimension based on a stated start and end date\"\n",
       "\n",
       "[[1]]$args\n",
       "[[1]]$args$imagery\n",
       "[[1]]$args$imagery$description\n",
       "[1] \"the temporal dataset/collection\"\n",
       "\n",
       "\n",
       "[[1]]$args$from\n",
       "[[1]]$args$from$description\n",
       "[1] \"start date/timestamp for the query interval\"\n",
       "\n",
       "\n",
       "[[1]]$args$to\n",
       "[[1]]$args$to$description\n",
       "[1] \"end date/timestamp for the query interval\"\n",
       "\n",
       "\n",
       "\n"
      ]
     },
     "metadata": {},
     "output_type": "display_data"
    }
   ],
   "source": [
    "describe(conn, \"filter_daterange\")"
   ]
  },
  {
   "cell_type": "code",
   "execution_count": 21,
   "metadata": {
    "collapsed": false,
    "scrolled": true
   },
   "outputs": [
    {
     "name": "stderr",
     "output_type": "stream",
     "text": [
      "ERROR while rich displaying an object: Error in vapply(seq_along(mapped), function(i) {: values must be length 1,\n",
      " but FUN(X[[2]]) result is length 0\n",
      "\n",
      "Traceback:\n",
      "1. FUN(X[[i]], ...)\n",
      "2. tryCatch(withCallingHandlers({\n",
      " .     rpr <- mime2repr[[mime]](obj)\n",
      " .     if (is.null(rpr)) \n",
      " .         return(NULL)\n",
      " .     prepare_content(is.raw(rpr), rpr)\n",
      " . }, error = error_handler), error = outer_handler)\n",
      "3. tryCatchList(expr, classes, parentenv, handlers)\n",
      "4. tryCatchOne(expr, names, parentenv, handlers[[1L]])\n",
      "5. doTryCatch(return(expr), name, parentenv, handler)\n",
      "6. withCallingHandlers({\n",
      " .     rpr <- mime2repr[[mime]](obj)\n",
      " .     if (is.null(rpr)) \n",
      " .         return(NULL)\n",
      " .     prepare_content(is.raw(rpr), rpr)\n",
      " . }, error = error_handler)\n",
      "7. mime2repr[[mime]](obj)\n",
      "8. repr_html.list(obj)\n",
      "9. repr_list_generic(obj, \"html\", \"\\t<li>%s</li>\\n\", \"\\t<dt>$%s</dt>\\n\\t\\t<dd>%s</dd>\\n\", \n",
      " .     \"<strong>$%s</strong> = %s\", \"<ol>\\n%s</ol>\\n\", \"<dl>\\n%s</dl>\\n\", \n",
      " .     numeric_item = \"\\t<dt>[[%s]]</dt>\\n\\t\\t<dd>%s</dd>\\n\", escape_fun = html_escape)\n",
      "10. lapply(vec, format2repr[[fmt]])\n",
      "11. FUN(X[[i]], ...)\n",
      "12. repr_html.list(X[[i]], ...)\n",
      "13. repr_list_generic(obj, \"html\", \"\\t<li>%s</li>\\n\", \"\\t<dt>$%s</dt>\\n\\t\\t<dd>%s</dd>\\n\", \n",
      "  .     \"<strong>$%s</strong> = %s\", \"<ol>\\n%s</ol>\\n\", \"<dl>\\n%s</dl>\\n\", \n",
      "  .     numeric_item = \"\\t<dt>[[%s]]</dt>\\n\\t\\t<dd>%s</dd>\\n\", escape_fun = html_escape)\n",
      "14. lapply(vec, format2repr[[fmt]])\n",
      "15. FUN(X[[i]], ...)\n",
      "16. repr_html.list(X[[i]], ...)\n",
      "17. repr_list_generic(obj, \"html\", \"\\t<li>%s</li>\\n\", \"\\t<dt>$%s</dt>\\n\\t\\t<dd>%s</dd>\\n\", \n",
      "  .     \"<strong>$%s</strong> = %s\", \"<ol>\\n%s</ol>\\n\", \"<dl>\\n%s</dl>\\n\", \n",
      "  .     numeric_item = \"\\t<dt>[[%s]]</dt>\\n\\t\\t<dd>%s</dd>\\n\", escape_fun = html_escape)\n",
      "18. lapply(vec, format2repr[[fmt]])\n",
      "19. FUN(X[[i]], ...)\n",
      "20. repr_html.list(X[[i]], ...)\n",
      "21. repr_list_generic(obj, \"html\", \"\\t<li>%s</li>\\n\", \"\\t<dt>$%s</dt>\\n\\t\\t<dd>%s</dd>\\n\", \n",
      "  .     \"<strong>$%s</strong> = %s\", \"<ol>\\n%s</ol>\\n\", \"<dl>\\n%s</dl>\\n\", \n",
      "  .     numeric_item = \"\\t<dt>[[%s]]</dt>\\n\\t\\t<dd>%s</dd>\\n\", escape_fun = html_escape)\n",
      "22. vapply(seq_along(mapped), function(i) {\n",
      "  .     nm <- nms[[i]]\n",
      "  .     if (is.na(nm) || nchar(nm) == 0) {\n",
      "  .         sprintf(numeric_item, i, mapped[[i]])\n",
      "  .     }\n",
      "  .     else {\n",
      "  .         sprintf(named_item, nms[[i]], mapped[[i]])\n",
      "  .     }\n",
      "  . }, character(1))\n",
      "ERROR while rich displaying an object: Error in vapply(seq_along(mapped), function(i) {: values must be length 1,\n",
      " but FUN(X[[2]]) result is length 0\n",
      "\n",
      "Traceback:\n",
      "1. FUN(X[[i]], ...)\n",
      "2. tryCatch(withCallingHandlers({\n",
      " .     rpr <- mime2repr[[mime]](obj)\n",
      " .     if (is.null(rpr)) \n",
      " .         return(NULL)\n",
      " .     prepare_content(is.raw(rpr), rpr)\n",
      " . }, error = error_handler), error = outer_handler)\n",
      "3. tryCatchList(expr, classes, parentenv, handlers)\n",
      "4. tryCatchOne(expr, names, parentenv, handlers[[1L]])\n",
      "5. doTryCatch(return(expr), name, parentenv, handler)\n",
      "6. withCallingHandlers({\n",
      " .     rpr <- mime2repr[[mime]](obj)\n",
      " .     if (is.null(rpr)) \n",
      " .         return(NULL)\n",
      " .     prepare_content(is.raw(rpr), rpr)\n",
      " . }, error = error_handler)\n",
      "7. mime2repr[[mime]](obj)\n",
      "8. repr_markdown.list(obj)\n",
      "9. repr_list_generic(obj, \"markdown\", \"%s. %s\\n\", \"$%s\\n:   %s\\n\", \n",
      " .     \"**$%s** = %s\", \"%s\\n\\n\", numeric_item = \"[[%s]]\\n:   %s\\n\", \n",
      " .     item_uses_numbers = TRUE, escape_fun = html_escape)\n",
      "10. lapply(vec, format2repr[[fmt]])\n",
      "11. FUN(X[[i]], ...)\n",
      "12. repr_markdown.list(X[[i]], ...)\n",
      "13. repr_list_generic(obj, \"markdown\", \"%s. %s\\n\", \"$%s\\n:   %s\\n\", \n",
      "  .     \"**$%s** = %s\", \"%s\\n\\n\", numeric_item = \"[[%s]]\\n:   %s\\n\", \n",
      "  .     item_uses_numbers = TRUE, escape_fun = html_escape)\n",
      "14. lapply(vec, format2repr[[fmt]])\n",
      "15. FUN(X[[i]], ...)\n",
      "16. repr_markdown.list(X[[i]], ...)\n",
      "17. repr_list_generic(obj, \"markdown\", \"%s. %s\\n\", \"$%s\\n:   %s\\n\", \n",
      "  .     \"**$%s** = %s\", \"%s\\n\\n\", numeric_item = \"[[%s]]\\n:   %s\\n\", \n",
      "  .     item_uses_numbers = TRUE, escape_fun = html_escape)\n",
      "18. lapply(vec, format2repr[[fmt]])\n",
      "19. FUN(X[[i]], ...)\n",
      "20. repr_markdown.list(X[[i]], ...)\n",
      "21. repr_list_generic(obj, \"markdown\", \"%s. %s\\n\", \"$%s\\n:   %s\\n\", \n",
      "  .     \"**$%s** = %s\", \"%s\\n\\n\", numeric_item = \"[[%s]]\\n:   %s\\n\", \n",
      "  .     item_uses_numbers = TRUE, escape_fun = html_escape)\n",
      "22. vapply(seq_along(mapped), function(i) {\n",
      "  .     nm <- nms[[i]]\n",
      "  .     if (is.na(nm) || nchar(nm) == 0) {\n",
      "  .         sprintf(numeric_item, i, mapped[[i]])\n",
      "  .     }\n",
      "  .     else {\n",
      "  .         sprintf(named_item, nms[[i]], mapped[[i]])\n",
      "  .     }\n",
      "  . }, character(1))\n",
      "ERROR while rich displaying an object: Error in vapply(seq_along(mapped), function(i) {: values must be length 1,\n",
      " but FUN(X[[2]]) result is length 0\n",
      "\n",
      "Traceback:\n",
      "1. FUN(X[[i]], ...)\n",
      "2. tryCatch(withCallingHandlers({\n",
      " .     rpr <- mime2repr[[mime]](obj)\n",
      " .     if (is.null(rpr)) \n",
      " .         return(NULL)\n",
      " .     prepare_content(is.raw(rpr), rpr)\n",
      " . }, error = error_handler), error = outer_handler)\n",
      "3. tryCatchList(expr, classes, parentenv, handlers)\n",
      "4. tryCatchOne(expr, names, parentenv, handlers[[1L]])\n",
      "5. doTryCatch(return(expr), name, parentenv, handler)\n",
      "6. withCallingHandlers({\n",
      " .     rpr <- mime2repr[[mime]](obj)\n",
      " .     if (is.null(rpr)) \n",
      " .         return(NULL)\n",
      " .     prepare_content(is.raw(rpr), rpr)\n",
      " . }, error = error_handler)\n",
      "7. mime2repr[[mime]](obj)\n",
      "8. repr_latex.list(obj)\n",
      "9. repr_list_generic(obj, \"latex\", \"\\\\item %s\\n\", \"\\\\item[\\\\$%s] %s\\n\", \n",
      " .     \"\\\\textbf{\\\\$%s} = %s\", enum_wrap = \"\\\\begin{enumerate}\\n%s\\\\end{enumerate}\\n\", \n",
      " .     named_wrap = \"\\\\begin{description}\\n%s\\\\end{description}\\n\", \n",
      " .     numeric_item = \"\\\\item[{[[%s]]}] %s\\n\", escape_fun = latex_escape)\n",
      "10. lapply(vec, format2repr[[fmt]])\n",
      "11. FUN(X[[i]], ...)\n",
      "12. repr_latex.list(X[[i]], ...)\n",
      "13. repr_list_generic(obj, \"latex\", \"\\\\item %s\\n\", \"\\\\item[\\\\$%s] %s\\n\", \n",
      "  .     \"\\\\textbf{\\\\$%s} = %s\", enum_wrap = \"\\\\begin{enumerate}\\n%s\\\\end{enumerate}\\n\", \n",
      "  .     named_wrap = \"\\\\begin{description}\\n%s\\\\end{description}\\n\", \n",
      "  .     numeric_item = \"\\\\item[{[[%s]]}] %s\\n\", escape_fun = latex_escape)\n",
      "14. lapply(vec, format2repr[[fmt]])\n",
      "15. FUN(X[[i]], ...)\n",
      "16. repr_latex.list(X[[i]], ...)\n",
      "17. repr_list_generic(obj, \"latex\", \"\\\\item %s\\n\", \"\\\\item[\\\\$%s] %s\\n\", \n",
      "  .     \"\\\\textbf{\\\\$%s} = %s\", enum_wrap = \"\\\\begin{enumerate}\\n%s\\\\end{enumerate}\\n\", \n",
      "  .     named_wrap = \"\\\\begin{description}\\n%s\\\\end{description}\\n\", \n",
      "  .     numeric_item = \"\\\\item[{[[%s]]}] %s\\n\", escape_fun = latex_escape)\n",
      "18. lapply(vec, format2repr[[fmt]])\n",
      "19. FUN(X[[i]], ...)\n",
      "20. repr_latex.list(X[[i]], ...)\n",
      "21. repr_list_generic(obj, \"latex\", \"\\\\item %s\\n\", \"\\\\item[\\\\$%s] %s\\n\", \n",
      "  .     \"\\\\textbf{\\\\$%s} = %s\", enum_wrap = \"\\\\begin{enumerate}\\n%s\\\\end{enumerate}\\n\", \n",
      "  .     named_wrap = \"\\\\begin{description}\\n%s\\\\end{description}\\n\", \n",
      "  .     numeric_item = \"\\\\item[{[[%s]]}] %s\\n\", escape_fun = latex_escape)\n",
      "22. vapply(seq_along(mapped), function(i) {\n",
      "  .     nm <- nms[[i]]\n",
      "  .     if (is.na(nm) || nchar(nm) == 0) {\n",
      "  .         sprintf(numeric_item, i, mapped[[i]])\n",
      "  .     }\n",
      "  .     else {\n",
      "  .         sprintf(named_item, nms[[i]], mapped[[i]])\n",
      "  .     }\n",
      "  . }, character(1))\n"
     ]
    },
    {
     "data": {
      "text/plain": [
       "[[1]]\n",
       "[[1]]$product_id\n",
       "[1] \"sentinel2_subset\"\n",
       "\n",
       "[[1]]$description\n",
       "[1] \"Sentinel 2 raster time series for a small spatial subset\"\n",
       "\n",
       "[[1]]$source\n",
       "[1] \"ESA / Marius Appel\"\n",
       "\n",
       "[[1]]$extent\n",
       "class       : Extent \n",
       "xmin        : 699960 \n",
       "xmax        : 702960 \n",
       "ymin        : 7897000 \n",
       "ymax        : 7900000 \n",
       "\n",
       "[[1]]$time\n",
       "[[1]]$time$from\n",
       "[1] \"2016-12-12 08:23:32 UTC\"\n",
       "\n",
       "[[1]]$time$to\n",
       "[1] \"2017-08-29 08:16:01 UTC\"\n",
       "\n",
       "\n",
       "[[1]]$bands\n",
       "[[1]]$bands[[1]]\n",
       "[[1]]$bands[[1]]$band_id\n",
       "[1] \"1\"\n",
       "\n",
       "[[1]]$bands[[1]]$name\n",
       "NULL\n",
       "\n",
       "[[1]]$bands[[1]]$wavelength_nm\n",
       "[1] \"443\"\n",
       "\n",
       "[[1]]$bands[[1]]$res\n",
       "[[1]]$bands[[1]]$res$x\n",
       "[1] 60\n",
       "\n",
       "[[1]]$bands[[1]]$res$y\n",
       "[1] 60\n",
       "\n",
       "\n",
       "[[1]]$bands[[1]]$scale\n",
       "[1] 1\n",
       "\n",
       "[[1]]$bands[[1]]$offset\n",
       "[1] 0\n",
       "\n",
       "[[1]]$bands[[1]]$type\n",
       "[1] \"uint16\"\n",
       "\n",
       "[[1]]$bands[[1]]$unit\n",
       "NULL\n",
       "\n",
       "[[1]]$bands[[1]]$nodata\n",
       "[1] 0\n",
       "\n",
       "\n",
       "[[1]]$bands[[2]]\n",
       "[[1]]$bands[[2]]$band_id\n",
       "[1] \"2\"\n",
       "\n",
       "[[1]]$bands[[2]]$name\n",
       "[1] \"blue\"\n",
       "\n",
       "[[1]]$bands[[2]]$wavelength_nm\n",
       "[1] \"490\"\n",
       "\n",
       "[[1]]$bands[[2]]$res\n",
       "[[1]]$bands[[2]]$res$x\n",
       "[1] 10\n",
       "\n",
       "[[1]]$bands[[2]]$res$y\n",
       "[1] 10\n",
       "\n",
       "\n",
       "[[1]]$bands[[2]]$scale\n",
       "[1] 1\n",
       "\n",
       "[[1]]$bands[[2]]$offset\n",
       "[1] 0\n",
       "\n",
       "[[1]]$bands[[2]]$type\n",
       "[1] \"uint16\"\n",
       "\n",
       "[[1]]$bands[[2]]$unit\n",
       "NULL\n",
       "\n",
       "[[1]]$bands[[2]]$nodata\n",
       "[1] 0\n",
       "\n",
       "\n",
       "[[1]]$bands[[3]]\n",
       "[[1]]$bands[[3]]$band_id\n",
       "[1] \"3\"\n",
       "\n",
       "[[1]]$bands[[3]]$name\n",
       "[1] \"green\"\n",
       "\n",
       "[[1]]$bands[[3]]$wavelength_nm\n",
       "[1] \"560\"\n",
       "\n",
       "[[1]]$bands[[3]]$res\n",
       "[[1]]$bands[[3]]$res$x\n",
       "[1] 10\n",
       "\n",
       "[[1]]$bands[[3]]$res$y\n",
       "[1] 10\n",
       "\n",
       "\n",
       "[[1]]$bands[[3]]$scale\n",
       "[1] 1\n",
       "\n",
       "[[1]]$bands[[3]]$offset\n",
       "[1] 0\n",
       "\n",
       "[[1]]$bands[[3]]$type\n",
       "[1] \"uint16\"\n",
       "\n",
       "[[1]]$bands[[3]]$unit\n",
       "NULL\n",
       "\n",
       "[[1]]$bands[[3]]$nodata\n",
       "[1] 0\n",
       "\n",
       "\n",
       "[[1]]$bands[[4]]\n",
       "[[1]]$bands[[4]]$band_id\n",
       "[1] \"4\"\n",
       "\n",
       "[[1]]$bands[[4]]$name\n",
       "[1] \"red\"\n",
       "\n",
       "[[1]]$bands[[4]]$wavelength_nm\n",
       "[1] \"665\"\n",
       "\n",
       "[[1]]$bands[[4]]$res\n",
       "[[1]]$bands[[4]]$res$x\n",
       "[1] 10\n",
       "\n",
       "[[1]]$bands[[4]]$res$y\n",
       "[1] 10\n",
       "\n",
       "\n",
       "[[1]]$bands[[4]]$scale\n",
       "[1] 1\n",
       "\n",
       "[[1]]$bands[[4]]$offset\n",
       "[1] 0\n",
       "\n",
       "[[1]]$bands[[4]]$type\n",
       "[1] \"uint16\"\n",
       "\n",
       "[[1]]$bands[[4]]$unit\n",
       "NULL\n",
       "\n",
       "[[1]]$bands[[4]]$nodata\n",
       "[1] 0\n",
       "\n",
       "\n",
       "[[1]]$bands[[5]]\n",
       "[[1]]$bands[[5]]$band_id\n",
       "[1] \"5\"\n",
       "\n",
       "[[1]]$bands[[5]]$name\n",
       "NULL\n",
       "\n",
       "[[1]]$bands[[5]]$wavelength_nm\n",
       "[1] \"705\"\n",
       "\n",
       "[[1]]$bands[[5]]$res\n",
       "[[1]]$bands[[5]]$res$x\n",
       "[1] 20\n",
       "\n",
       "[[1]]$bands[[5]]$res$y\n",
       "[1] 20\n",
       "\n",
       "\n",
       "[[1]]$bands[[5]]$scale\n",
       "[1] 1\n",
       "\n",
       "[[1]]$bands[[5]]$offset\n",
       "[1] 0\n",
       "\n",
       "[[1]]$bands[[5]]$type\n",
       "[1] \"uint16\"\n",
       "\n",
       "[[1]]$bands[[5]]$unit\n",
       "NULL\n",
       "\n",
       "[[1]]$bands[[5]]$nodata\n",
       "[1] 0\n",
       "\n",
       "\n",
       "[[1]]$bands[[6]]\n",
       "[[1]]$bands[[6]]$band_id\n",
       "[1] \"6\"\n",
       "\n",
       "[[1]]$bands[[6]]$name\n",
       "NULL\n",
       "\n",
       "[[1]]$bands[[6]]$wavelength_nm\n",
       "[1] \"740\"\n",
       "\n",
       "[[1]]$bands[[6]]$res\n",
       "[[1]]$bands[[6]]$res$x\n",
       "[1] 20\n",
       "\n",
       "[[1]]$bands[[6]]$res$y\n",
       "[1] 20\n",
       "\n",
       "\n",
       "[[1]]$bands[[6]]$scale\n",
       "[1] 1\n",
       "\n",
       "[[1]]$bands[[6]]$offset\n",
       "[1] 0\n",
       "\n",
       "[[1]]$bands[[6]]$type\n",
       "[1] \"uint16\"\n",
       "\n",
       "[[1]]$bands[[6]]$unit\n",
       "NULL\n",
       "\n",
       "[[1]]$bands[[6]]$nodata\n",
       "[1] 0\n",
       "\n",
       "\n",
       "[[1]]$bands[[7]]\n",
       "[[1]]$bands[[7]]$band_id\n",
       "[1] \"7\"\n",
       "\n",
       "[[1]]$bands[[7]]$name\n",
       "NULL\n",
       "\n",
       "[[1]]$bands[[7]]$wavelength_nm\n",
       "[1] \"783\"\n",
       "\n",
       "[[1]]$bands[[7]]$res\n",
       "[[1]]$bands[[7]]$res$x\n",
       "[1] 20\n",
       "\n",
       "[[1]]$bands[[7]]$res$y\n",
       "[1] 20\n",
       "\n",
       "\n",
       "[[1]]$bands[[7]]$scale\n",
       "[1] 1\n",
       "\n",
       "[[1]]$bands[[7]]$offset\n",
       "[1] 0\n",
       "\n",
       "[[1]]$bands[[7]]$type\n",
       "[1] \"uint16\"\n",
       "\n",
       "[[1]]$bands[[7]]$unit\n",
       "NULL\n",
       "\n",
       "[[1]]$bands[[7]]$nodata\n",
       "[1] 0\n",
       "\n",
       "\n",
       "[[1]]$bands[[8]]\n",
       "[[1]]$bands[[8]]$band_id\n",
       "[1] \"8\"\n",
       "\n",
       "[[1]]$bands[[8]]$name\n",
       "[1] \"nir\"\n",
       "\n",
       "[[1]]$bands[[8]]$wavelength_nm\n",
       "[1] \"842\"\n",
       "\n",
       "[[1]]$bands[[8]]$res\n",
       "[[1]]$bands[[8]]$res$x\n",
       "[1] 10\n",
       "\n",
       "[[1]]$bands[[8]]$res$y\n",
       "[1] 10\n",
       "\n",
       "\n",
       "[[1]]$bands[[8]]$scale\n",
       "[1] 1\n",
       "\n",
       "[[1]]$bands[[8]]$offset\n",
       "[1] 0\n",
       "\n",
       "[[1]]$bands[[8]]$type\n",
       "[1] \"uint16\"\n",
       "\n",
       "[[1]]$bands[[8]]$unit\n",
       "NULL\n",
       "\n",
       "[[1]]$bands[[8]]$nodata\n",
       "[1] 0\n",
       "\n",
       "\n",
       "[[1]]$bands[[9]]\n",
       "[[1]]$bands[[9]]$band_id\n",
       "[1] \"8a\"\n",
       "\n",
       "[[1]]$bands[[9]]$name\n",
       "NULL\n",
       "\n",
       "[[1]]$bands[[9]]$wavelength_nm\n",
       "[1] \"865\"\n",
       "\n",
       "[[1]]$bands[[9]]$res\n",
       "[[1]]$bands[[9]]$res$x\n",
       "[1] 20\n",
       "\n",
       "[[1]]$bands[[9]]$res$y\n",
       "[1] 20\n",
       "\n",
       "\n",
       "[[1]]$bands[[9]]$scale\n",
       "[1] 1\n",
       "\n",
       "[[1]]$bands[[9]]$offset\n",
       "[1] 0\n",
       "\n",
       "[[1]]$bands[[9]]$type\n",
       "[1] \"uint16\"\n",
       "\n",
       "[[1]]$bands[[9]]$unit\n",
       "NULL\n",
       "\n",
       "[[1]]$bands[[9]]$nodata\n",
       "[1] 0\n",
       "\n",
       "\n",
       "[[1]]$bands[[10]]\n",
       "[[1]]$bands[[10]]$band_id\n",
       "[1] \"9\"\n",
       "\n",
       "[[1]]$bands[[10]]$name\n",
       "NULL\n",
       "\n",
       "[[1]]$bands[[10]]$wavelength_nm\n",
       "[1] \"940\"\n",
       "\n",
       "[[1]]$bands[[10]]$res\n",
       "[[1]]$bands[[10]]$res$x\n",
       "[1] 60\n",
       "\n",
       "[[1]]$bands[[10]]$res$y\n",
       "[1] 60\n",
       "\n",
       "\n",
       "[[1]]$bands[[10]]$scale\n",
       "[1] 1\n",
       "\n",
       "[[1]]$bands[[10]]$offset\n",
       "[1] 0\n",
       "\n",
       "[[1]]$bands[[10]]$type\n",
       "[1] \"uint16\"\n",
       "\n",
       "[[1]]$bands[[10]]$unit\n",
       "NULL\n",
       "\n",
       "[[1]]$bands[[10]]$nodata\n",
       "[1] 0\n",
       "\n",
       "\n",
       "[[1]]$bands[[11]]\n",
       "[[1]]$bands[[11]]$band_id\n",
       "[1] \"10\"\n",
       "\n",
       "[[1]]$bands[[11]]$name\n",
       "NULL\n",
       "\n",
       "[[1]]$bands[[11]]$wavelength_nm\n",
       "[1] \"1375\"\n",
       "\n",
       "[[1]]$bands[[11]]$res\n",
       "[[1]]$bands[[11]]$res$x\n",
       "[1] 60\n",
       "\n",
       "[[1]]$bands[[11]]$res$y\n",
       "[1] 60\n",
       "\n",
       "\n",
       "[[1]]$bands[[11]]$scale\n",
       "[1] 1\n",
       "\n",
       "[[1]]$bands[[11]]$offset\n",
       "[1] 0\n",
       "\n",
       "[[1]]$bands[[11]]$type\n",
       "[1] \"uint16\"\n",
       "\n",
       "[[1]]$bands[[11]]$unit\n",
       "NULL\n",
       "\n",
       "[[1]]$bands[[11]]$nodata\n",
       "[1] 0\n",
       "\n",
       "\n",
       "[[1]]$bands[[12]]\n",
       "[[1]]$bands[[12]]$band_id\n",
       "[1] \"11\"\n",
       "\n",
       "[[1]]$bands[[12]]$name\n",
       "NULL\n",
       "\n",
       "[[1]]$bands[[12]]$wavelength_nm\n",
       "[1] \"1610\"\n",
       "\n",
       "[[1]]$bands[[12]]$res\n",
       "[[1]]$bands[[12]]$res$x\n",
       "[1] 20\n",
       "\n",
       "[[1]]$bands[[12]]$res$y\n",
       "[1] 20\n",
       "\n",
       "\n",
       "[[1]]$bands[[12]]$scale\n",
       "[1] 1\n",
       "\n",
       "[[1]]$bands[[12]]$offset\n",
       "[1] 0\n",
       "\n",
       "[[1]]$bands[[12]]$type\n",
       "[1] \"uint16\"\n",
       "\n",
       "[[1]]$bands[[12]]$unit\n",
       "NULL\n",
       "\n",
       "[[1]]$bands[[12]]$nodata\n",
       "[1] 0\n",
       "\n",
       "\n",
       "[[1]]$bands[[13]]\n",
       "[[1]]$bands[[13]]$band_id\n",
       "[1] \"12\"\n",
       "\n",
       "[[1]]$bands[[13]]$name\n",
       "NULL\n",
       "\n",
       "[[1]]$bands[[13]]$wavelength_nm\n",
       "[1] \"2190\"\n",
       "\n",
       "[[1]]$bands[[13]]$res\n",
       "[[1]]$bands[[13]]$res$x\n",
       "[1] 20\n",
       "\n",
       "[[1]]$bands[[13]]$res$y\n",
       "[1] 20\n",
       "\n",
       "\n",
       "[[1]]$bands[[13]]$scale\n",
       "[1] 1\n",
       "\n",
       "[[1]]$bands[[13]]$offset\n",
       "[1] 0\n",
       "\n",
       "[[1]]$bands[[13]]$type\n",
       "[1] \"uint16\"\n",
       "\n",
       "[[1]]$bands[[13]]$unit\n",
       "NULL\n",
       "\n",
       "[[1]]$bands[[13]]$nodata\n",
       "[1] 0\n",
       "\n",
       "\n",
       "\n",
       "[[1]]$crs\n",
       "CRS arguments:\n",
       " +proj=utm +zone=34 +south +datum=WGS84 +units=m +no_defs +ellps=WGS84\n",
       "+towgs84=0,0,0 \n",
       "\n",
       "\n",
       "[[2]]\n",
       "[[2]]$product_id\n",
       "[1] \"landsat7_ndvi\"\n",
       "\n",
       "[[2]]$description\n",
       "[1] \"Landsat7 NDVI calculation\"\n",
       "\n",
       "[[2]]$source\n",
       "[1] \"Marius Appel\"\n",
       "\n",
       "[[2]]$extent\n",
       "class       : Extent \n",
       "xmin        : 799500 \n",
       "xmax        : 809500 \n",
       "ymin        : 789000 \n",
       "ymax        : 799000 \n",
       "\n",
       "[[2]]$time\n",
       "[[2]]$time$from\n",
       "[1] \"2003-08-06 UTC\"\n",
       "\n",
       "[[2]]$time$to\n",
       "[1] \"2014-12-26 UTC\"\n",
       "\n",
       "\n",
       "[[2]]$bands\n",
       "[[2]]$bands[[1]]\n",
       "[[2]]$bands[[1]]$band_id\n",
       "[1] 1\n",
       "\n",
       "[[2]]$bands[[1]]$name\n",
       "[1] \"ndvi\"\n",
       "\n",
       "[[2]]$bands[[1]]$wavelength_nm\n",
       "NULL\n",
       "\n",
       "[[2]]$bands[[1]]$res\n",
       "[[2]]$bands[[1]]$res$x\n",
       "[1] 29.9401\n",
       "\n",
       "[[2]]$bands[[1]]$res$y\n",
       "[1] 29.9401\n",
       "\n",
       "\n",
       "[[2]]$bands[[1]]$scale\n",
       "[1] 1\n",
       "\n",
       "[[2]]$bands[[1]]$offset\n",
       "[1] 0\n",
       "\n",
       "[[2]]$bands[[1]]$type\n",
       "[1] \"int16\"\n",
       "\n",
       "[[2]]$bands[[1]]$unit\n",
       "NULL\n",
       "\n",
       "[[2]]$bands[[1]]$nodata\n",
       "[1] -9999\n",
       "\n",
       "\n",
       "\n",
       "[[2]]$crs\n",
       "CRS arguments:\n",
       " +proj=utm +zone=36 +datum=WGS84 +units=m +no_defs +ellps=WGS84\n",
       "+towgs84=0,0,0 \n",
       "\n"
      ]
     },
     "metadata": {},
     "output_type": "display_data"
    }
   ],
   "source": [
    "describe(conn, product_id=c(\"sentinel2_subset\", \"landsat7_ndvi\"))"
   ]
  },
  {
   "cell_type": "markdown",
   "metadata": {},
   "source": [
    "Listing existing user jobs"
   ]
  },
  {
   "cell_type": "code",
   "execution_count": 9,
   "metadata": {
    "collapsed": false
   },
   "outputs": [
    {
     "ename": "ERROR",
     "evalue": "Error in private$GET(endpoint, authorized = TRUE, type = \"application/json\"): Cannot access data endpoint\n",
     "output_type": "error",
     "traceback": [
      "Error in private$GET(endpoint, authorized = TRUE, type = \"application/json\"): Cannot access data endpoint\nTraceback:\n",
      "1. listJobs(conn)",
      "2. con$listJobs()",
      "3. private$GET(endpoint, authorized = TRUE, type = \"application/json\")",
      "4. stop(\"Cannot access data endpoint\")"
     ]
    }
   ],
   "source": [
    "listJobs(conn)"
   ]
  },
  {
   "cell_type": "markdown",
   "metadata": {},
   "source": [
    "Listing which UDF capabilities/packages are supported"
   ]
  },
  {
   "cell_type": "code",
   "execution_count": 10,
   "metadata": {
    "collapsed": false
   },
   "outputs": [
    {
     "ename": "ERROR",
     "evalue": "Error in eval(expr, envir, enclos): could not find function \"listUDFCapabilities\"\n",
     "output_type": "error",
     "traceback": [
      "Error in eval(expr, envir, enclos): could not find function \"listUDFCapabilities\"\nTraceback:\n"
     ]
    }
   ],
   "source": [
    "listUDFCapabilities(conn)"
   ]
  },
  {
   "cell_type": "markdown",
   "metadata": {},
   "source": [
    "## Simple task: calculating NDVI using a linked list of processes\n",
    "Assumes NDVI function takes band names as parameters"
   ]
  },
  {
   "cell_type": "code",
   "execution_count": 12,
   "metadata": {
    "collapsed": false
   },
   "outputs": [
    {
     "name": "stdout",
     "output_type": "stream",
     "text": [
      "List of 2\n",
      " $ process_id: chr \"calculate_ndvi\"\n",
      " $ args      :List of 3\n",
      "  ..$ collections:List of 2\n",
      "  .. ..$ process_id: chr \"filter_daterange\"\n",
      "  .. ..$ args      :List of 3\n",
      "  .. .. ..$ collections:List of 1\n",
      "  .. .. .. ..$ collection_id: chr \"sentinel2_subset\"\n",
      "  .. .. ..$ from       : chr \"2016\"\n",
      "  .. .. ..$ to         : chr \"2018\"\n",
      "  ..$ red        : chr \"B04\"\n",
      "  ..$ nir        : chr \"B8A\"\n"
     ]
    },
    {
     "data": {
      "text/plain": [
       "{\n",
       "  \"process_id\": \"calculate_ndvi\",\n",
       "  \"args\": {\n",
       "    \"collections\": {\n",
       "      \"process_id\": \"filter_daterange\",\n",
       "      \"args\": {\n",
       "        \"collections\": {\n",
       "          \"collection_id\": \"sentinel2_subset\"\n",
       "        },\n",
       "        \"from\": \"2016\",\n",
       "        \"to\": \"2018\"\n",
       "      }\n",
       "    },\n",
       "    \"red\": \"B04\",\n",
       "    \"nir\": \"B8A\"\n",
       "  }\n",
       "} "
      ]
     },
     "metadata": {},
     "output_type": "display_data"
    }
   ],
   "source": [
    "Task = collection(\"sentinel2_subset\") %>% process(\"filter_daterange\", from=\"2016\", to=\"2018\") %>%\n",
    "    process(\"calculate_ndvi\", red=\"B04\", nir=\"B8A\")\n",
    "str(Task)\n",
    "taskToJSON(Task)"
   ]
  },
  {
   "cell_type": "markdown",
   "metadata": {},
   "source": [
    "## Advanced task: calculating NDVI using processes that have other processes as arguments \n",
    "Assumes NDVI function takes process graphs"
   ]
  },
  {
   "cell_type": "code",
   "execution_count": 10,
   "metadata": {
    "collapsed": false
   },
   "outputs": [
    {
     "name": "stdout",
     "output_type": "stream",
     "text": [
      "List of 2\n",
      " $ process_id: chr \"NDVI\"\n",
      " $ args      :List of 3\n",
      "  ..$ collections:List of 2\n",
      "  .. ..$ process_id: chr \"filter_daterange\"\n",
      "  .. ..$ args      :List of 3\n",
      "  .. .. ..$ collections:List of 1\n",
      "  .. .. .. ..$ collection_id: chr \"S2_L2A_T32TPS_20M\"\n",
      "  .. .. ..$ start      : chr \"2016\"\n",
      "  .. .. ..$ end        : chr \"2018\"\n",
      "  ..$ red        :List of 2\n",
      "  .. ..$ process_id: chr \"filter_band\"\n",
      "  .. ..$ args      :List of 2\n",
      "  .. .. ..$ collections:List of 1\n",
      "  .. .. .. ..$ collection_id: chr \"S2_L2A_T32TPS_20M\"\n",
      "  .. .. ..$ band       : chr \"red\"\n",
      "  ..$ nir        :List of 2\n",
      "  .. ..$ process_id: chr \"filter_band\"\n",
      "  .. ..$ args      :List of 2\n",
      "  .. .. ..$ collections:List of 1\n",
      "  .. .. .. ..$ collection_id: chr \"S2_L2A_T32TPS_20M\"\n",
      "  .. .. ..$ band       : chr \"nir\"\n"
     ]
    },
    {
     "data": {
      "text/plain": [
       "{\n",
       "  \"process_id\": \"NDVI\",\n",
       "  \"args\": {\n",
       "    \"collections\": {\n",
       "      \"process_id\": \"filter_daterange\",\n",
       "      \"args\": {\n",
       "        \"collections\": {\n",
       "          \"collection_id\": \"S2_L2A_T32TPS_20M\"\n",
       "        },\n",
       "        \"start\": \"2016\",\n",
       "        \"end\": \"2018\"\n",
       "      }\n",
       "    },\n",
       "    \"red\": {\n",
       "      \"process_id\": \"filter_band\",\n",
       "      \"args\": {\n",
       "        \"collections\": {\n",
       "          \"collection_id\": \"S2_L2A_T32TPS_20M\"\n",
       "        },\n",
       "        \"band\": \"red\"\n",
       "      }\n",
       "    },\n",
       "    \"nir\": {\n",
       "      \"process_id\": \"filter_band\",\n",
       "      \"args\": {\n",
       "        \"collections\": {\n",
       "          \"collection_id\": \"S2_L2A_T32TPS_20M\"\n",
       "        },\n",
       "        \"band\": \"nir\"\n",
       "      }\n",
       "    }\n",
       "  }\n",
       "} "
      ]
     },
     "metadata": {},
     "output_type": "display_data"
    }
   ],
   "source": [
    "RedSubset = collection(\"S2_L2A_T32TPS_20M\") %>% process(\"filter_band\", band=\"red\")\n",
    "NIRSubset = collection(\"S2_L2A_T32TPS_20M\") %>% process(\"filter_band\", band=\"nir\")\n",
    "Task = collection(\"S2_L2A_T32TPS_20M\") %>% process(\"filter_daterange\", start=\"2016\", end=\"2018\") %>%\n",
    "    process(\"NDVI\", red=RedSubset, nir=NIRSubset)\n",
    "str(Task)\n",
    "taskToJSON(Task)"
   ]
  },
  {
   "cell_type": "markdown",
   "metadata": {},
   "source": [
    "## Three ways of processing data in OpenEO:\n",
    "### Synchronous\n",
    "Run right away and give data as an object (Raster?); 'format' optional, should default to native that is then read into a Raster* object"
   ]
  },
  {
   "cell_type": "code",
   "execution_count": 13,
   "metadata": {
    "collapsed": false
   },
   "outputs": [
    {
     "name": "stderr",
     "output_type": "stream",
     "text": [
      "No encoding supplied: defaulting to UTF-8.\n"
     ]
    },
    {
     "ename": "ERROR",
     "evalue": "Error in con$execute(task, format, output): {\"status\":400,\"message\":\"Missing query parameter \\\"evaluate\\\" or it contains a value other then \\\"lazy\\\" or \\\"batch\\\"\"}\n",
     "output_type": "error",
     "traceback": [
      "Error in con$execute(task, format, output): {\"status\":400,\"message\":\"Missing query parameter \\\"evaluate\\\" or it contains a value other then \\\"lazy\\\" or \\\"batch\\\"\"}\nTraceback:\n",
      "1. executeTask(conn, Task, format = \"GTiff\")",
      "2. con$execute(task, format, output)",
      "3. stop(error)"
     ]
    }
   ],
   "source": [
    "Result = executeTask(conn, Task, format=\"GTiff\")"
   ]
  },
  {
   "cell_type": "markdown",
   "metadata": {},
   "source": [
    "### Lazy\n",
    "Ask the server to run it when needed (on WCS, but also download etc.)"
   ]
  },
  {
   "cell_type": "code",
   "execution_count": 18,
   "metadata": {
    "collapsed": false
   },
   "outputs": [
    {
     "data": {
      "text/plain": [
       "NULL"
      ]
     },
     "metadata": {},
     "output_type": "display_data"
    }
   ],
   "source": [
    "(JobID = queueTask(conn, Task))"
   ]
  },
  {
   "cell_type": "markdown",
   "metadata": {},
   "source": [
    "### Batch\n",
    "Ask the server to prepare it the USGS ESPA way, get a job ID and the URL to the output location. This is actually a lazy job followed by a download link request."
   ]
  },
  {
   "cell_type": "code",
   "execution_count": 14,
   "metadata": {
    "collapsed": false
   },
   "outputs": [
    {
     "name": "stderr",
     "output_type": "stream",
     "text": [
      "Warning message in is.na(x):\n",
      "“is.na() applied to non-(list or vector) of type 'environment'”"
     ]
    },
    {
     "ename": "ERROR",
     "evalue": "Error in x[!nas]: object of type 'environment' is not subsettable\n",
     "output_type": "error",
     "traceback": [
      "Error in x[!nas]: object of type 'environment' is not subsettable\nTraceback:\n",
      "1. order(conn, Task)",
      "2. lapply(z, function(x) if (is.object(x)) as.vector(xtfrm(x)) else x)",
      "3. FUN(X[[i]], ...)",
      "4. as.vector(xtfrm(x))",
      "5. xtfrm(x)",
      "6. xtfrm.default(x)",
      "7. as.vector(rank(x, ties.method = \"min\", na.last = \"keep\"))",
      "8. rank(x, ties.method = \"min\", na.last = \"keep\")"
     ]
    }
   ],
   "source": [
    "OutputInfo = order(conn, Task)\n",
    "(JobID = OutputInfo$JobID)"
   ]
  },
  {
   "cell_type": "markdown",
   "metadata": {},
   "source": [
    "## Functions that can be performed with a JobID\n",
    "Lazy (and batch) only"
   ]
  },
  {
   "cell_type": "code",
   "execution_count": 17,
   "metadata": {
    "collapsed": false
   },
   "outputs": [
    {
     "data": {
      "text/plain": [
       "NULL"
      ]
     },
     "metadata": {},
     "output_type": "display_data"
    },
    {
     "data": {
      "text/plain": [
       "NULL"
      ]
     },
     "metadata": {},
     "output_type": "display_data"
    },
    {
     "data": {
      "text/plain": [
       "NULL"
      ]
     },
     "metadata": {},
     "output_type": "display_data"
    },
    {
     "data": {
      "text/plain": [
       "NULL"
      ]
     },
     "metadata": {},
     "output_type": "display_data"
    },
    {
     "ename": "ERROR",
     "evalue": "Error in eval(expr, envir, enclos): could not find function \"getWCSLink\"\n",
     "output_type": "error",
     "traceback": [
      "Error in eval(expr, envir, enclos): could not find function \"getWCSLink\"\nTraceback:\n"
     ]
    }
   ],
   "source": [
    "followJob(conn, JobID) # cat --follow style updates about the job\n",
    "(JobInfo = queryJob(conn, JobID)) # Get current information on a job\n",
    "(Result = downloadJob(conn, JobID)) # Get the result as with the synchronous case\n",
    "(WCSURL = getWCSLink(conn, JobID)) # Get a URL to the WCS to visualise/download data\n",
    "cancelJob(conn, JobID) # Ask to delete a job, the backend eventually removes it"
   ]
  },
  {
   "cell_type": "markdown",
   "metadata": {},
   "source": [
    "## Either way have a result, should be a **Raster*** object"
   ]
  },
  {
   "cell_type": "code",
   "execution_count": null,
   "metadata": {
    "collapsed": true
   },
   "outputs": [],
   "source": [
    "plot(Result)\n",
    "spplot(Result, 3)"
   ]
  },
  {
   "cell_type": "markdown",
   "metadata": {},
   "source": [
    "## Theoretical use case 1: composite example"
   ]
  },
  {
   "cell_type": "code",
   "execution_count": 22,
   "metadata": {
    "collapsed": false,
    "scrolled": true
   },
   "outputs": [
    {
     "name": "stdout",
     "output_type": "stream",
     "text": [
      "List of 2\n",
      " $ process_id: chr \"max_time\"\n",
      " $ args      :List of 1\n",
      "  ..$ collections:List of 2\n",
      "  .. ..$ process_id: chr \"bbox_filter\"\n",
      "  .. ..$ args      :List of 6\n",
      "  .. .. ..$ collections:List of 2\n",
      "  .. .. .. ..$ process_id: chr \"date_range_filter\"\n",
      "  .. .. .. ..$ args      :List of 3\n",
      "  .. .. .. .. ..$ collections:List of 1\n",
      "  .. .. .. .. .. ..$ collection_id: chr \"S2_L2A_T32TPS_20M\"\n",
      "  .. .. .. .. ..$ start      : chr \"2016-01-01\"\n",
      "  .. .. .. .. ..$ end        : chr \"2016-03-10\"\n",
      "  .. .. ..$ left       : num 652000\n",
      "  .. .. ..$ right      : num 672000\n",
      "  .. .. ..$ top        : num 5161000\n",
      "  .. .. ..$ bottom     : num 5181000\n",
      "  .. .. ..$ srs        : chr \"EPSG:32632\"\n"
     ]
    },
    {
     "data": {
      "text/plain": [
       "{\n",
       "  \"process_id\": \"max_time\",\n",
       "  \"args\": {\n",
       "    \"collections\": {\n",
       "      \"process_id\": \"bbox_filter\",\n",
       "      \"args\": {\n",
       "        \"collections\": {\n",
       "          \"process_id\": \"date_range_filter\",\n",
       "          \"args\": {\n",
       "            \"collections\": {\n",
       "              \"collection_id\": \"S2_L2A_T32TPS_20M\"\n",
       "            },\n",
       "            \"start\": \"2016-01-01\",\n",
       "            \"end\": \"2016-03-10\"\n",
       "          }\n",
       "        },\n",
       "        \"left\": 652000,\n",
       "        \"right\": 672000,\n",
       "        \"top\": 5161000,\n",
       "        \"bottom\": 5181000,\n",
       "        \"srs\": \"EPSG:32632\"\n",
       "      }\n",
       "    }\n",
       "  }\n",
       "} "
      ]
     },
     "metadata": {},
     "output_type": "display_data"
    }
   ],
   "source": [
    "CompositeTask = collection(\"S2_L2A_T32TPS_20M\") %>% process(\"date_range_filter\", start=\"2016-01-01\", end=\"2016-03-10\") %>%\n",
    "    process(\"bbox_filter\", left=652000, right=672000, top=5161000, bottom=5181000, srs=\"EPSG:32632\") %>%\n",
    "    process(\"max_time\")\n",
    "\n",
    "str(CompositeTask)\n",
    "taskToJSON(CompositeTask)"
   ]
  },
  {
   "cell_type": "markdown",
   "metadata": {},
   "source": [
    "### Lazy"
   ]
  },
  {
   "cell_type": "code",
   "execution_count": 15,
   "metadata": {
    "collapsed": false
   },
   "outputs": [
    {
     "name": "stdout",
     "output_type": "stream",
     "text": [
      "Registered 'http://saocompute.eurac.edu/openEO_WCPS_Driver' as host\n"
     ]
    },
    {
     "ename": "ERROR",
     "evalue": "Error in OpenEOClient$new()$connect(url = host)$login(user = user, password = password): Login failed.\n",
     "output_type": "error",
     "traceback": [
      "Error in OpenEOClient$new()$connect(url = host)$login(user = user, password = password): Login failed.\nTraceback:\n",
      "1. connect(host = \"http://saocompute.eurac.edu/openEO_WCPS_Driver\", \n .     user = \"nobody\", password = \"nobody\")",
      "2. OpenEOClient$new()$connect(url = host)$login(user = user, password = password)",
      "3. stop(\"Login failed.\")"
     ]
    }
   ],
   "source": [
    "Conn = connect(host=\"http://saocompute.eurac.edu/openEO_WCPS_Driver\", user=\"nobody\", password=\"nobody\")\n",
    "Job = queueTask(Conn, CompositeTask)\n",
    "OutPath = file.path(\"Downloads\", \"Result.netcdf\")\n",
    "downloadJob(Conn, Job, OutPath, \"netcdf\") # Processing happens here\n",
    "Result = brick(OutPath)"
   ]
  },
  {
   "cell_type": "markdown",
   "metadata": {},
   "source": [
    "### Synchronous"
   ]
  },
  {
   "cell_type": "code",
   "execution_count": null,
   "metadata": {
    "collapsed": true
   },
   "outputs": [],
   "source": [
    "Result = executeTask(Conn, CompositeTask)"
   ]
  },
  {
   "cell_type": "code",
   "execution_count": null,
   "metadata": {
    "collapsed": true
   },
   "outputs": [],
   "source": [
    "plot(Result)"
   ]
  },
  {
   "cell_type": "markdown",
   "metadata": {},
   "source": [
    "## Complex use case: Land cover classification"
   ]
  },
  {
   "cell_type": "markdown",
   "metadata": {},
   "source": [
    "UDF definitions: uploading a file so that it can be used as a process"
   ]
  },
  {
   "cell_type": "code",
   "execution_count": 19,
   "metadata": {
    "collapsed": false
   },
   "outputs": [
    {
     "data": {
      "text/html": [
       "<dl>\n",
       "\t<dt>$process_id</dt>\n",
       "\t\t<dd>'/udf/R/aggregate_space'</dd>\n",
       "\t<dt>$args</dt>\n",
       "\t\t<dd><strong>$script</strong> = 'resample'</dd>\n",
       "</dl>\n"
      ],
      "text/latex": [
       "\\begin{description}\n",
       "\\item[\\$process\\_id] '/udf/R/aggregate\\_space'\n",
       "\\item[\\$args] \\textbf{\\$script} = 'resample'\n",
       "\\end{description}\n"
      ],
      "text/markdown": [
       "$process_id\n",
       ":   '/udf/R/aggregate_space'\n",
       "$args\n",
       ":   **$script** = 'resample'\n",
       "\n",
       "\n"
      ],
      "text/plain": [
       "$process_id\n",
       "[1] \"/udf/R/aggregate_space\"\n",
       "\n",
       "$args\n",
       "$args$script\n",
       "[1] \"resample\"\n",
       "\n"
      ]
     },
     "metadata": {},
     "output_type": "display_data"
    },
    {
     "data": {
      "text/html": [
       "<dl>\n",
       "\t<dt>$process_id</dt>\n",
       "\t\t<dd>'/udf/R/apply_time'</dd>\n",
       "\t<dt>$args</dt>\n",
       "\t\t<dd><strong>$script</strong> = 'temporal_cloud_filter'</dd>\n",
       "</dl>\n"
      ],
      "text/latex": [
       "\\begin{description}\n",
       "\\item[\\$process\\_id] '/udf/R/apply\\_time'\n",
       "\\item[\\$args] \\textbf{\\$script} = 'temporal\\_cloud\\_filter'\n",
       "\\end{description}\n"
      ],
      "text/markdown": [
       "$process_id\n",
       ":   '/udf/R/apply_time'\n",
       "$args\n",
       ":   **$script** = 'temporal_cloud_filter'\n",
       "\n",
       "\n"
      ],
      "text/plain": [
       "$process_id\n",
       "[1] \"/udf/R/apply_time\"\n",
       "\n",
       "$args\n",
       "$args$script\n",
       "[1] \"temporal_cloud_filter\"\n",
       "\n"
      ]
     },
     "metadata": {},
     "output_type": "display_data"
    },
    {
     "data": {
      "text/html": [
       "<dl>\n",
       "\t<dt>$process_id</dt>\n",
       "\t\t<dd>'/udf/R/reduce_time'</dd>\n",
       "\t<dt>$args</dt>\n",
       "\t\t<dd><strong>$script</strong> = 'harmonic_analysis'</dd>\n",
       "</dl>\n"
      ],
      "text/latex": [
       "\\begin{description}\n",
       "\\item[\\$process\\_id] '/udf/R/reduce\\_time'\n",
       "\\item[\\$args] \\textbf{\\$script} = 'harmonic\\_analysis'\n",
       "\\end{description}\n"
      ],
      "text/markdown": [
       "$process_id\n",
       ":   '/udf/R/reduce_time'\n",
       "$args\n",
       ":   **$script** = 'harmonic_analysis'\n",
       "\n",
       "\n"
      ],
      "text/plain": [
       "$process_id\n",
       "[1] \"/udf/R/reduce_time\"\n",
       "\n",
       "$args\n",
       "$args$script\n",
       "[1] \"harmonic_analysis\"\n",
       "\n"
      ]
     },
     "metadata": {},
     "output_type": "display_data"
    },
    {
     "data": {
      "text/html": [
       "<dl>\n",
       "\t<dt>$process_id</dt>\n",
       "\t\t<dd>'/udf/R/apply_pixel'</dd>\n",
       "\t<dt>$args</dt>\n",
       "\t\t<dd><strong>$script</strong> = 'ranger_classification'</dd>\n",
       "</dl>\n"
      ],
      "text/latex": [
       "\\begin{description}\n",
       "\\item[\\$process\\_id] '/udf/R/apply\\_pixel'\n",
       "\\item[\\$args] \\textbf{\\$script} = 'ranger\\_classification'\n",
       "\\end{description}\n"
      ],
      "text/markdown": [
       "$process_id\n",
       ":   '/udf/R/apply_pixel'\n",
       "$args\n",
       ":   **$script** = 'ranger_classification'\n",
       "\n",
       "\n"
      ],
      "text/plain": [
       "$process_id\n",
       "[1] \"/udf/R/apply_pixel\"\n",
       "\n",
       "$args\n",
       "$args$script\n",
       "[1] \"ranger_classification\"\n",
       "\n"
      ]
     },
     "metadata": {},
     "output_type": "display_data"
    }
   ],
   "source": [
    "defineUDF(conn, language=\"R\", target=\"resample\", type=\"aggregate_space\", content=file.path(\"resample.r\")) # This could be a server-defined function too\n",
    "defineUDF(conn, language=\"R\", target=\"temporal_cloud_filter\", type=\"apply_time\", content=file.path(\"temporal_cloud_filter.r\")) # No such type in API yet\n",
    "defineUDF(conn, language=\"R\", target=\"harmonic_analysis\", type=\"reduce_time\", content=file.path(\"harmonic_analysis.r\"))\n",
    "defineUDF(conn, language=\"R\", target=\"ranger_classification\", type=\"apply_pixel\", content=file.path(\"ranger_classification.r\"))"
   ]
  },
  {
   "cell_type": "markdown",
   "metadata": {},
   "source": [
    "Process graphs"
   ]
  },
  {
   "cell_type": "code",
   "execution_count": 21,
   "metadata": {
    "collapsed": false
   },
   "outputs": [
    {
     "name": "stdout",
     "output_type": "stream",
     "text": [
      "List of 2\n",
      " $ process_id: chr \"ranger_classification\"\n",
      " $ args      :List of 4\n",
      "  ..$ collections:List of 1\n",
      "  .. ..$ collection_id: NULL\n",
      "  ..$ NDVI       :List of 2\n",
      "  .. ..$ process_id: chr \"mean_time\"\n",
      "  .. ..$ args      :List of 1\n",
      "  .. .. ..$ collections:List of 2\n",
      "  .. .. .. ..$ process_id: chr \"temporal_cloud_filter\"\n",
      "  .. .. .. ..$ args      :List of 3\n",
      "  .. .. .. .. ..$ collections:List of 2\n",
      "  .. .. .. .. .. ..$ process_id: chr \"ndvi\"\n",
      "  .. .. .. .. .. ..$ args      :List of 3\n",
      "  .. .. .. .. .. .. ..$ collections:List of 2\n",
      "  .. .. .. .. .. .. .. ..$ process_id: chr \"mask\"\n",
      "  .. .. .. .. .. .. .. ..$ args      :List of 3\n",
      "  .. .. .. .. .. .. .. .. ..$ collections:List of 2\n",
      "  .. .. .. .. .. .. .. .. .. ..$ process_id: chr \"bbox_filter\"\n",
      "  .. .. .. .. .. .. .. .. .. ..$ args      :List of 6\n",
      "  .. .. .. .. .. .. .. .. .. .. ..$ collections:List of 1\n",
      "  .. .. .. .. .. .. .. .. .. .. .. ..$ collection_id: chr \"S2_L2A_T32TPS_20M\"\n",
      "  .. .. .. .. .. .. .. .. .. .. ..$ left       : num 652000\n",
      "  .. .. .. .. .. .. .. .. .. .. ..$ right      : num 672000\n",
      "  .. .. .. .. .. .. .. .. .. .. ..$ top        : num 5161000\n",
      "  .. .. .. .. .. .. .. .. .. .. ..$ bottom     : num 5181000\n",
      "  .. .. .. .. .. .. .. .. .. .. ..$ srs        : chr \"EPSG:32632\"\n",
      "  .. .. .. .. .. .. .. .. ..$ mask       : chr \"CM\"\n",
      "  .. .. .. .. .. .. .. .. ..$ maskvalue  : num 5\n",
      "  .. .. .. .. .. .. ..$ red        : chr \"B04\"\n",
      "  .. .. .. .. .. .. ..$ nir        : chr \"B8A\"\n",
      "  .. .. .. .. ..$ band       : chr \"B02\"\n",
      "  .. .. .. .. ..$ threshold  : chr \"50\"\n",
      "  ..$ DEM        :List of 2\n",
      "  .. ..$ process_id: chr \"resample\"\n",
      "  .. ..$ args      :List of 2\n",
      "  .. .. ..$ collections:List of 2\n",
      "  .. .. .. ..$ process_id: chr \"bbox_filter\"\n",
      "  .. .. .. ..$ args      :List of 6\n",
      "  .. .. .. .. ..$ collections:List of 1\n",
      "  .. .. .. .. .. ..$ collection_id: chr \"GLSDEM\"\n",
      "  .. .. .. .. ..$ left       : num 652000\n",
      "  .. .. .. .. ..$ right      : num 672000\n",
      "  .. .. .. .. ..$ top        : num 5161000\n",
      "  .. .. .. .. ..$ bottom     : num 5181000\n",
      "  .. .. .. .. ..$ srs        : chr \"EPSG:32632\"\n",
      "  .. .. ..$ input      :List of 1\n",
      "  .. .. .. ..$ collection_id: chr \"S2_L2A_T32TPS_20M\"\n",
      "  ..$ TS         :List of 2\n",
      "  .. ..$ process_id: chr \"harmonic_analysis\"\n",
      "  .. ..$ args      :List of 1\n",
      "  .. .. ..$ collections:List of 2\n",
      "  .. .. .. ..$ process_id: chr \"temporal_cloud_filter\"\n",
      "  .. .. .. ..$ args      :List of 3\n",
      "  .. .. .. .. ..$ collections:List of 2\n",
      "  .. .. .. .. .. ..$ process_id: chr \"ndvi\"\n",
      "  .. .. .. .. .. ..$ args      :List of 3\n",
      "  .. .. .. .. .. .. ..$ collections:List of 2\n",
      "  .. .. .. .. .. .. .. ..$ process_id: chr \"mask\"\n",
      "  .. .. .. .. .. .. .. ..$ args      :List of 3\n",
      "  .. .. .. .. .. .. .. .. ..$ collections:List of 2\n",
      "  .. .. .. .. .. .. .. .. .. ..$ process_id: chr \"bbox_filter\"\n",
      "  .. .. .. .. .. .. .. .. .. ..$ args      :List of 6\n",
      "  .. .. .. .. .. .. .. .. .. .. ..$ collections:List of 1\n",
      "  .. .. .. .. .. .. .. .. .. .. .. ..$ collection_id: chr \"S2_L2A_T32TPS_20M\"\n",
      "  .. .. .. .. .. .. .. .. .. .. ..$ left       : num 652000\n",
      "  .. .. .. .. .. .. .. .. .. .. ..$ right      : num 672000\n",
      "  .. .. .. .. .. .. .. .. .. .. ..$ top        : num 5161000\n",
      "  .. .. .. .. .. .. .. .. .. .. ..$ bottom     : num 5181000\n",
      "  .. .. .. .. .. .. .. .. .. .. ..$ srs        : chr \"EPSG:32632\"\n",
      "  .. .. .. .. .. .. .. .. ..$ mask       : chr \"CM\"\n",
      "  .. .. .. .. .. .. .. .. ..$ maskvalue  : num 5\n",
      "  .. .. .. .. .. .. ..$ red        : chr \"B04\"\n",
      "  .. .. .. .. .. .. ..$ nir        : chr \"B8A\"\n",
      "  .. .. .. .. ..$ band       : chr \"B02\"\n",
      "  .. .. .. .. ..$ threshold  : chr \"50\"\n"
     ]
    },
    {
     "data": {
      "text/plain": [
       "{\n",
       "  \"process_id\": \"ranger_classification\",\n",
       "  \"args\": {\n",
       "    \"collections\": {\n",
       "      \"collection_id\": {}\n",
       "    },\n",
       "    \"NDVI\": {\n",
       "      \"process_id\": \"mean_time\",\n",
       "      \"args\": {\n",
       "        \"collections\": {\n",
       "          \"process_id\": \"temporal_cloud_filter\",\n",
       "          \"args\": {\n",
       "            \"collections\": {\n",
       "              \"process_id\": \"ndvi\",\n",
       "              \"args\": {\n",
       "                \"collections\": {\n",
       "                  \"process_id\": \"mask\",\n",
       "                  \"args\": {\n",
       "                    \"collections\": {\n",
       "                      \"process_id\": \"bbox_filter\",\n",
       "                      \"args\": {\n",
       "                        \"collections\": {\n",
       "                          \"collection_id\": \"S2_L2A_T32TPS_20M\"\n",
       "                        },\n",
       "                        \"left\": 652000,\n",
       "                        \"right\": 672000,\n",
       "                        \"top\": 5161000,\n",
       "                        \"bottom\": 5181000,\n",
       "                        \"srs\": \"EPSG:32632\"\n",
       "                      }\n",
       "                    },\n",
       "                    \"mask\": \"CM\",\n",
       "                    \"maskvalue\": 5\n",
       "                  }\n",
       "                },\n",
       "                \"red\": \"B04\",\n",
       "                \"nir\": \"B8A\"\n",
       "              }\n",
       "            },\n",
       "            \"band\": \"B02\",\n",
       "            \"threshold\": \"50\"\n",
       "          }\n",
       "        }\n",
       "      }\n",
       "    },\n",
       "    \"DEM\": {\n",
       "      \"process_id\": \"resample\",\n",
       "      \"args\": {\n",
       "        \"collections\": {\n",
       "          \"process_id\": \"bbox_filter\",\n",
       "          \"args\": {\n",
       "            \"collections\": {\n",
       "              \"collection_id\": \"GLSDEM\"\n",
       "            },\n",
       "            \"left\": 652000,\n",
       "            \"right\": 672000,\n",
       "            \"top\": 5161000,\n",
       "            \"bottom\": 5181000,\n",
       "            \"srs\": \"EPSG:32632\"\n",
       "          }\n",
       "        },\n",
       "        \"input\": {\n",
       "          \"collection_id\": \"S2_L2A_T32TPS_20M\"\n",
       "        }\n",
       "      }\n",
       "    },\n",
       "    \"TS\": {\n",
       "      \"process_id\": \"harmonic_analysis\",\n",
       "      \"args\": {\n",
       "        \"collections\": {\n",
       "          \"process_id\": \"temporal_cloud_filter\",\n",
       "          \"args\": {\n",
       "            \"collections\": {\n",
       "              \"process_id\": \"ndvi\",\n",
       "              \"args\": {\n",
       "                \"collections\": {\n",
       "                  \"process_id\": \"mask\",\n",
       "                  \"args\": {\n",
       "                    \"collections\": {\n",
       "                      \"process_id\": \"bbox_filter\",\n",
       "                      \"args\": {\n",
       "                        \"collections\": {\n",
       "                          \"collection_id\": \"S2_L2A_T32TPS_20M\"\n",
       "                        },\n",
       "                        \"left\": 652000,\n",
       "                        \"right\": 672000,\n",
       "                        \"top\": 5161000,\n",
       "                        \"bottom\": 5181000,\n",
       "                        \"srs\": \"EPSG:32632\"\n",
       "                      }\n",
       "                    },\n",
       "                    \"mask\": \"CM\",\n",
       "                    \"maskvalue\": 5\n",
       "                  }\n",
       "                },\n",
       "                \"red\": \"B04\",\n",
       "                \"nir\": \"B8A\"\n",
       "              }\n",
       "            },\n",
       "            \"band\": \"B02\",\n",
       "            \"threshold\": \"50\"\n",
       "          }\n",
       "        }\n",
       "      }\n",
       "    }\n",
       "  }\n",
       "} "
      ]
     },
     "metadata": {},
     "output_type": "display_data"
    }
   ],
   "source": [
    "DEMCollection = collection(\"GLSDEM\") %>%\n",
    "    process(\"bbox_filter\", left=652000, right=672000, top=5161000, bottom=5181000, srs=\"EPSG:32632\") %>%\n",
    "    process(\"resample\", input=collection(\"S2_L2A_T32TPS_20M\"))\n",
    "    # UDF to resample to Sentinel 2 pixel size\n",
    "\n",
    "CloudlessNDVI = collection(\"S2_L2A_T32TPS_20M\") %>% # Graph part reused in several places\n",
    "    process(\"bbox_filter\", left=652000, right=672000, top=5161000, bottom=5181000, srs=\"EPSG:32632\") %>%\n",
    "    process(\"mask\", mask=\"CM\", maskvalue=5) %>% process(\"ndvi\", red=\"B04\", nir=\"B8A\") %>%\n",
    "    process(\"temporal_cloud_filter\", band=\"B02\", threshold=\"50\")\n",
    "    # Temporal cloud filter UDF: for each pixel use blue to detect outliers, replace more than 50 with NA\n",
    "\n",
    "TSParams = CloudlessNDVI %>% process(\"harmonic_analysis\")\n",
    "# Harmonic parameter extraction UDF: get several layers of harmonic model params\n",
    "\n",
    "MeanNDVI = CloudlessNDVI %>% process(\"mean_time\")\n",
    "# Also get the mean NDVI as a covariate\n",
    "\n",
    "# Somehow upload training dataset or have a UDF that downloads it(?)\n",
    "LandCoverTask = collection(NULL) %>% process(\"ranger_classification\", NDVI=MeanNDVI, DEM=DEMCollection, TS=TSParams)\n",
    "# UDF: runs a ranger training and prediction pass, returns an LC map and some (spatial?) statistics\n",
    "\n",
    "str(LandCoverTask)\n",
    "taskToJSON(LandCoverTask)"
   ]
  },
  {
   "cell_type": "code",
   "execution_count": null,
   "metadata": {
    "collapsed": true
   },
   "outputs": [],
   "source": [
    "Result = executeTask(conn, LandCoverTask)\n",
    "spplot(Result, 1)"
   ]
  }
 ],
 "metadata": {
  "kernelspec": {
   "display_name": "R",
   "language": "R",
   "name": "ir"
  },
  "language_info": {
   "codemirror_mode": "r",
   "file_extension": ".r",
   "mimetype": "text/x-r-source",
   "name": "R",
   "pygments_lexer": "r",
   "version": "3.3.1"
  }
 },
 "nbformat": 4,
 "nbformat_minor": 2
}
